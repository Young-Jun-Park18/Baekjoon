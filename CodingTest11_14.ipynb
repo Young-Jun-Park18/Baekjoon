{
 "cells": [
  {
   "cell_type": "markdown",
   "id": "2a057e3d-5954-4023-9b5a-fcdb6423f2ed",
   "metadata": {},
   "source": [
    "# [ 3003 ]번"
   ]
  },
  {
   "cell_type": "code",
   "execution_count": 1,
   "id": "f8e52e69-8944-4f93-9f50-20210f561204",
   "metadata": {},
   "outputs": [],
   "source": [
    "#혁이는 오래된 창고를 뒤지다가 낡은 체스판과 피스를 발견했다.\n",
    "\n",
    "#체스판의 먼지를 털어내고 걸레로 닦으니 그럭저럭 쓸만한 체스판이 되었다. 하지만, 검정색 피스는 모두 있었으나, 흰색 피스는 개수가 올바르지 않았다.\n",
    "\n",
    "#체스는 총 16개의 피스를 사용하며, 킹 1개, 퀸 1개, 룩 2개, 비숍 2개, 나이트 2개, 폰 8개로 구성되어 있다.\n",
    "\n",
    "#동혁이가 발견한 흰색 피스의 개수가 주어졌을 때, 몇 개를 더하거나 빼야 올바른 세트가 되는지 구하는 프로그램을 작성하시오."
   ]
  },
  {
   "cell_type": "code",
   "execution_count": 49,
   "id": "2e960470-1cc0-48d5-9f40-7726bb80c6b5",
   "metadata": {},
   "outputs": [
    {
     "name": "stdin",
     "output_type": "stream",
     "text": [
      "킹 퀸 룩 비숍 나이트 폰 순서로 입력하시오 2 1 2 1 2 1\n"
     ]
    },
    {
     "name": "stdout",
     "output_type": "stream",
     "text": [
      "-1 0 0 1 0 7 "
     ]
    }
   ],
   "source": [
    "# 정해진 규칙\n",
    "chess = [1, 1, 2, 2, 2, 8]\n",
    "\n",
    "input_chess_number = list(map(int, input(\"킹 퀸 룩 비숍 나이트 폰 순서로 입력하시오\").split()))\n",
    "# list() = 리스트를 만들어주는 함수입니다.\n",
    "# map(funtion, iterable) = 반복가능한 iterable 각각의 요소에 funtion을 적용시켜 새로운 요소로 만들어줍니다.\n",
    "# .split() = 띄어쓰기와 엔터를 기준으로 구분해줍니다. split('구분문자', 구분횟수)도 사용할 수 있습니다.\n",
    "# list(map(int, input().split())) = 자주 쓰이니 외워두면 좋습니다.\n",
    "\n",
    "for i in range(6):\n",
    "    print(chess[i] - input_chess_number[i])\n",
    "    #print(chess[i] - input_chess_number[i], end=' ') 라고 적었다가 틀렸음, 출력 공백을 무시하고 제출해야함\n",
    "\n",
    "# range(value) = value -1 만큼 수행\n",
    "# range(start, stop, step) = start에서 stop-1까지 step 간격으로 수행\n",
    "# end = ''  -> end는 print() 함수가 실행된 이후에 뭐를 출력할지 설정\n",
    "# sep = '' -> sep는 출력값들 사이사이에 무엇을 넣을지 설정\n",
    "\n",
    "    "
   ]
  },
  {
   "cell_type": "code",
   "execution_count": 35,
   "id": "4a6e53c9-c806-42f1-9ba9-ae6d807eb06d",
   "metadata": {},
   "outputs": [],
   "source": [
    "# 배열은 고정 크기에 자료형이 동일하지만\n",
    "# 리스트는 가변 크기에 여러 자료형을 넣을 수 있다"
   ]
  },
  {
   "cell_type": "markdown",
   "id": "748b081f-033a-4cfc-8bdc-903a26821018",
   "metadata": {},
   "source": [
    "# [2338]번"
   ]
  },
  {
   "cell_type": "code",
   "execution_count": 53,
   "id": "21b3693c-1203-4bfc-a5ce-82fc0293c9ef",
   "metadata": {},
   "outputs": [],
   "source": [
    "#두 수 A, B를 입력받아, A+B, A-B, A×B를 구하는 프로그램을 작성하시오."
   ]
  },
  {
   "cell_type": "code",
   "execution_count": 59,
   "id": "1d1c3da7-bb2c-40ec-bad4-719fb915588f",
   "metadata": {},
   "outputs": [
    {
     "name": "stdin",
     "output_type": "stream",
     "text": [
      " 1\n",
      " -1\n"
     ]
    },
    {
     "name": "stdout",
     "output_type": "stream",
     "text": [
      "0\n",
      "2\n",
      "-1\n"
     ]
    }
   ],
   "source": [
    "A = int(input())\n",
    "B = int(input())\n",
    "\n",
    "print(A+B)\n",
    "print(A-B)\n",
    "print(A*B)"
   ]
  },
  {
   "cell_type": "markdown",
   "id": "d8d5abab-b339-40f8-95ac-22ea0d3baee5",
   "metadata": {},
   "source": [
    "# [2420]번"
   ]
  },
  {
   "cell_type": "code",
   "execution_count": 62,
   "id": "32cf845a-8c54-4461-94ee-66386a2479ed",
   "metadata": {},
   "outputs": [],
   "source": [
    "# 사파리월드는 인터넷으로만 존재하는 미스테리한 나라이다.\n",
    "# 사파리월드에는 2개의 서브도메인이 seunghwan.royal.gov.sw와 kyuhyun.royal.gov.sw 이 있는데,\n",
    "# 이것이 couple.royal.gov.sw으로 합쳐질 것이다. 그러나 도메인 관리 센터 SWNIC(센터장: 김동규)에는 \n",
    "# 엄격한 룰이 있다. 두 서브도메인을 합칠 때, 유명도의 차이가 너무 차이나지 않을 경우에만\n",
    "# 두 서브도메인을 결혼시키는 것이다. 서브도메인의 유명도는 정수이다.\n",
    "# 두 서브도메인의 유명도가 주어졌을 때, 그 차이를 구하는 프로그램을 작성하시오."
   ]
  },
  {
   "cell_type": "code",
   "execution_count": 70,
   "id": "90b1d8c1-70b1-4e4b-8fb9-841938358dd5",
   "metadata": {},
   "outputs": [
    {
     "name": "stdin",
     "output_type": "stream",
     "text": [
      " -2 5\n"
     ]
    },
    {
     "name": "stdout",
     "output_type": "stream",
     "text": [
      "7\n"
     ]
    }
   ],
   "source": [
    "#N = int(input())\n",
    "#M = int(input()) 이렇게 2개로 나눠서 입력받으면 런타임에러가 난다\n",
    "\n",
    "N, M = map(int, input().split())\n",
    "\n",
    "print(abs(N-M))\n",
    "# 절대값은 abs() 함수를 사용한다"
   ]
  },
  {
   "cell_type": "markdown",
   "id": "4cf970f9-1a95-4fa3-9046-28aa9c7cd7d0",
   "metadata": {},
   "source": [
    "# [2744]번"
   ]
  },
  {
   "cell_type": "code",
   "execution_count": 73,
   "id": "c361a374-0b5e-4db5-9115-3162ffca18db",
   "metadata": {},
   "outputs": [],
   "source": [
    "# 영어 소문자와 대문자로 이루어진 단어를 입력받은 뒤, 대문자는 소문자로, \n",
    "# 소문자는 대문자로 바꾸어 출력하는 프로그램을 작성하시오."
   ]
  },
  {
   "cell_type": "code",
   "execution_count": 97,
   "id": "82d91918-21db-46b6-9839-065e5f71e9a9",
   "metadata": {},
   "outputs": [
    {
     "name": "stdin",
     "output_type": "stream",
     "text": [
      " WromgAnswer\n"
     ]
    },
    {
     "name": "stdout",
     "output_type": "stream",
     "text": [
      "wROMGaNSWER\n"
     ]
    }
   ],
   "source": [
    "input_str = list(input())                     # string을 list로 변경하면 하나의 문자를 1개의 index로 바꿔줌\n",
    "for i in range(len(input_str)):\n",
    "    if input_str[i].isupper():                # isupper() 함수 자체가 true or false를 반환하기에 == 같은 비교 연산자 필요없음\n",
    "        input_str[i] = input_str[i].lower()   # 해당 문자만 바꿔야하므로 [i] 범위설정 꼭 해줘야함\n",
    "    else:\n",
    "        input_str[i] = input_str[i].upper()   # lower() 함수는 소문자로 변경, upper 함수는 대문자로 변경해줌\n",
    "\n",
    "print(\"\".join(input_str))\n",
    "# \"구분자\".join(list이름) = 리스트를 구분자를 통해 연속된 문자열로 합쳐준다. 여기서는 구분자가 아무것도 없으므로 그냥 연속되게 출력한다\n"
   ]
  },
  {
   "cell_type": "markdown",
   "id": "955898d5-3150-4ec9-ba9c-84bbfbedc215",
   "metadata": {},
   "source": [
    "# [2743]번"
   ]
  },
  {
   "cell_type": "code",
   "execution_count": 100,
   "id": "1dce61f0-c00a-42e9-b4ec-e284192e741f",
   "metadata": {},
   "outputs": [],
   "source": [
    "# 알파벳으로만 이루어진 단어를 입력받아, 그 길이를 출력하는 프로그램을 작성하시오."
   ]
  },
  {
   "cell_type": "code",
   "execution_count": 102,
   "id": "0964094a-d350-4a1f-bbac-5c8cf31b275f",
   "metadata": {},
   "outputs": [
    {
     "name": "stdin",
     "output_type": "stream",
     "text": [
      " pulljima\n"
     ]
    },
    {
     "name": "stdout",
     "output_type": "stream",
     "text": [
      "8\n"
     ]
    }
   ],
   "source": [
    "rand_string = input()\n",
    "print(len(rand_string))"
   ]
  },
  {
   "cell_type": "markdown",
   "id": "3ce16303-315c-4b75-b4a0-579888662226",
   "metadata": {},
   "source": [
    "# [4101]번"
   ]
  },
  {
   "cell_type": "code",
   "execution_count": 105,
   "id": "d681c93b-25cb-42e6-b86a-6d87bdbde7b6",
   "metadata": {},
   "outputs": [],
   "source": [
    "# 두 양의 정수가 주어졌을 때, 첫 번째 수가 두 번째 수보다 큰지 구하는 프로그램을 작성하시오."
   ]
  },
  {
   "cell_type": "code",
   "execution_count": 129,
   "id": "03bf9b8d-a730-46d6-a47a-1eb34f6d4287",
   "metadata": {},
   "outputs": [
    {
     "name": "stdin",
     "output_type": "stream",
     "text": [
      " 1 19\n"
     ]
    },
    {
     "name": "stdout",
     "output_type": "stream",
     "text": [
      "No\n"
     ]
    },
    {
     "name": "stdin",
     "output_type": "stream",
     "text": [
      " 4 4\n"
     ]
    },
    {
     "name": "stdout",
     "output_type": "stream",
     "text": [
      "No\n"
     ]
    },
    {
     "name": "stdin",
     "output_type": "stream",
     "text": [
      " 23 14\n"
     ]
    },
    {
     "name": "stdout",
     "output_type": "stream",
     "text": [
      "Yes\n"
     ]
    },
    {
     "name": "stdin",
     "output_type": "stream",
     "text": [
      " 0 0\n"
     ]
    }
   ],
   "source": [
    "# 틀렸던 코드\n",
    "#A = [0, 0, 0, 0]\n",
    "#B = [0, 0, 0, 0]\n",
    "\n",
    "#for i in range(4):\n",
    "#    A[i], B[i] = list(map(int, input().split()))\n",
    "\n",
    "#for i in range(4):\n",
    "#    if A[i] > B[i]:\n",
    "#        print(\"Yes\")\n",
    "#    elif A[i] < B[i]:\n",
    "#        print(\"No\")\n",
    "#    else:\n",
    "#        break\n",
    "\n",
    "\n",
    "# 일단 횟수가 정해지지 않았으니까 for문 보다는 while 문을 사용했어야 했다.\n",
    "while True:\n",
    "    A, B = map(int, input().split())\n",
    "    if A == 0 and B == 0:  # 종료 조건을 먼저 달고\n",
    "        break              # break를 통해 while문을 멈춘다\n",
    "    if A > B:              # 조건의 순서도 중요하다\n",
    "        print(\"Yes\")\n",
    "    else:\n",
    "        print(\"No\")"
   ]
  },
  {
   "cell_type": "markdown",
   "id": "2a50ff1f-6ba6-4d11-a3dc-108442eee03a",
   "metadata": {},
   "source": [
    "# [4999]번"
   ]
  },
  {
   "cell_type": "code",
   "execution_count": 132,
   "id": "a3807533-4f3c-4ab6-8772-bdec79d1d1f6",
   "metadata": {},
   "outputs": [],
   "source": [
    "#입력은 두 줄로 이루어져 있다. 첫째 줄은 재환이가 가장 길게 낼 수 있는 \"aaah\"이다. \n",
    "# 둘째 줄은 의사가 듣기를 원하는 \"aah\"이다. 두 문자열은 모두 a와 h로만 이루어져 있다. \n",
    "# a의 개수는 0보다 크거나 같고,\n",
    "# 999보다 작거나 같으며, 항상 h는 마지막에 하나만 주어진다."
   ]
  },
  {
   "cell_type": "code",
   "execution_count": 140,
   "id": "c92a323d-e2c1-4048-8d1a-e235c89c4f39",
   "metadata": {},
   "outputs": [
    {
     "name": "stdin",
     "output_type": "stream",
     "text": [
      " aaah\n",
      " ah\n"
     ]
    },
    {
     "name": "stdout",
     "output_type": "stream",
     "text": [
      "go\n"
     ]
    }
   ],
   "source": [
    "sound_jae = input()\n",
    "doctor_needs = input()\n",
    "\n",
    "if len(sound_jae) >= len(doctor_needs):\n",
    "    print(\"go\")\n",
    "else:\n",
    "    print(\"no\")"
   ]
  },
  {
   "cell_type": "markdown",
   "id": "4ab0c5fa-2437-462d-b385-d717a3e65786",
   "metadata": {},
   "source": [
    "# [5522]번"
   ]
  },
  {
   "cell_type": "code",
   "execution_count": 145,
   "id": "cadf4e08-21fc-49fd-acf2-0cea5cc50b11",
   "metadata": {},
   "outputs": [],
   "source": [
    "# JOI군은 카드 게임을 하고 있다. 이 카드 게임은 5회의 게임으로 진행되며, 그 총점으로 승부를 하는 게임이다.\n",
    "\n",
    "# JOI군의 각 게임의 득점을 나타내는 정수가 주어졌을 때, JOI군의 총점을 구하는 프로그램을 작성하라."
   ]
  },
  {
   "cell_type": "code",
   "execution_count": 161,
   "id": "67929db3-1f0e-45f2-b38a-7e93e1385f0a",
   "metadata": {},
   "outputs": [
    {
     "name": "stdin",
     "output_type": "stream",
     "text": [
      " 0\n",
      " 100\n",
      " 0\n",
      " 10\n",
      " 100\n"
     ]
    },
    {
     "name": "stdout",
     "output_type": "stream",
     "text": [
      "210\n"
     ]
    }
   ],
   "source": [
    "joi_score = [0, 0, 0, 0, 0] # 리스트의 크기를 꼭 정해준다\n",
    "sum = 0\n",
    "for i in range(5):\n",
    "    joi_score[i] = int(input()) # 리스트에 정수를 입력할 때에는 input()을 꼭 int()로 감싸준다\n",
    "    sum += joi_score[i]\n",
    "print(sum)"
   ]
  },
  {
   "cell_type": "code",
   "execution_count": null,
   "id": "d7c3070a-5e31-4816-906a-cb23fc1a6f26",
   "metadata": {},
   "outputs": [],
   "source": []
  }
 ],
 "metadata": {
  "kernelspec": {
   "display_name": "Python 3 (ipykernel)",
   "language": "python",
   "name": "python3"
  },
  "language_info": {
   "codemirror_mode": {
    "name": "ipython",
    "version": 3
   },
   "file_extension": ".py",
   "mimetype": "text/x-python",
   "name": "python",
   "nbconvert_exporter": "python",
   "pygments_lexer": "ipython3",
   "version": "3.12.4"
  }
 },
 "nbformat": 4,
 "nbformat_minor": 5
}
