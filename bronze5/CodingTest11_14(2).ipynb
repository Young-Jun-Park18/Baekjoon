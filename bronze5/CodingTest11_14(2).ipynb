{
 "cells": [
  {
   "cell_type": "markdown",
   "id": "8a3c4652-6767-4d77-bf14-fe6d9e01cc23",
   "metadata": {},
   "source": [
    "# [9086]번"
   ]
  },
  {
   "cell_type": "code",
   "execution_count": 2,
   "id": "e07a9be0-3816-40e6-84b9-cc7c7e6ce4e7",
   "metadata": {},
   "outputs": [],
   "source": [
    "#문자열을 입력으로 주면 문자열의 첫 글자와 마지막 글자를 출력하는 프로그램을 작성하시오."
   ]
  },
  {
   "cell_type": "code",
   "execution_count": 4,
   "id": "291bd00b-fc3e-4426-9992-28adfa25ae0e",
   "metadata": {},
   "outputs": [
    {
     "name": "stdin",
     "output_type": "stream",
     "text": [
      " 3\n",
      " ACDKJFOWIEGHE\n"
     ]
    },
    {
     "name": "stdout",
     "output_type": "stream",
     "text": [
      "AE\n"
     ]
    },
    {
     "name": "stdin",
     "output_type": "stream",
     "text": [
      " O\n"
     ]
    },
    {
     "name": "stdout",
     "output_type": "stream",
     "text": [
      "OO\n"
     ]
    },
    {
     "name": "stdin",
     "output_type": "stream",
     "text": [
      " AB\n"
     ]
    },
    {
     "name": "stdout",
     "output_type": "stream",
     "text": [
      "AB\n"
     ]
    }
   ],
   "source": [
    "T = int(input())\n",
    " \n",
    "for i in range(T):\n",
    "    test = list(input())\n",
    "    print(test[0] + test[-1])\n",
    "\n",
    "# input()을 list()로 받아서 알파벳 하나하나가 낱개의 index가 되도록 설정"
   ]
  },
  {
   "cell_type": "markdown",
   "id": "0ac212e4-ed5c-40e1-b12b-8d7ad1aedbf2",
   "metadata": {},
   "source": [
    "# [24883]번 "
   ]
  },
  {
   "cell_type": "code",
   "execution_count": 7,
   "id": "f1d2125d-e117-4ded-a1d7-4f6d1f01308b",
   "metadata": {},
   "outputs": [],
   "source": [
    "#주어진 알파벳이 N 또는 n 이면 \"Naver D2\", 아니라면 \"Naver Whale\"을 따옴표를 제외하고 출력한다."
   ]
  },
  {
   "cell_type": "code",
   "execution_count": 27,
   "id": "431d7418-ad76-48c8-8ef2-3b823c6abd7a",
   "metadata": {},
   "outputs": [
    {
     "name": "stdin",
     "output_type": "stream",
     "text": [
      " N\n"
     ]
    },
    {
     "name": "stdout",
     "output_type": "stream",
     "text": [
      "Naver D2\n"
     ]
    }
   ],
   "source": [
    "input_word = input()\n",
    "if input_word == \"N\" or input_word == \"n\": # 논리연산은 소문자로 and, or를 사용한다\n",
    "    print(\"Naver D2\")\n",
    "else:\n",
    "    print(\"Naver Whale\")\n",
    "    "
   ]
  },
  {
   "cell_type": "markdown",
   "id": "e5e23de5-6256-46ac-b922-9f6b6d063fd0",
   "metadata": {},
   "source": [
    "# [25372]번 "
   ]
  },
  {
   "cell_type": "code",
   "execution_count": 30,
   "id": "cd10aa35-87bf-463a-a643-db33bc6a103b",
   "metadata": {},
   "outputs": [],
   "source": [
    "# 비밀번호는 6~9자리여야한다.\n",
    "# 슷자 or 영어 대소문자로만 구성된 문자열이 주어진다"
   ]
  },
  {
   "cell_type": "code",
   "execution_count": 36,
   "id": "761ad2d2-6470-4d49-a74c-7000aca840ee",
   "metadata": {},
   "outputs": [
    {
     "name": "stdin",
     "output_type": "stream",
     "text": [
      " 3\n",
      " 1245125\n"
     ]
    },
    {
     "name": "stdout",
     "output_type": "stream",
     "text": [
      "yes\n"
     ]
    },
    {
     "name": "stdin",
     "output_type": "stream",
     "text": [
      " asdij\n"
     ]
    },
    {
     "name": "stdout",
     "output_type": "stream",
     "text": [
      "no\n"
     ]
    },
    {
     "name": "stdin",
     "output_type": "stream",
     "text": [
      " 120318739721\n"
     ]
    },
    {
     "name": "stdout",
     "output_type": "stream",
     "text": [
      "no\n"
     ]
    }
   ],
   "source": [
    "N = int(input())\n",
    "for i in range(N):\n",
    "    password = input()\n",
    "    if len(password) >= 6 and len(password) <= 9:\n",
    "        print(\"yes\")\n",
    "    else:\n",
    "        print(\"no\")"
   ]
  },
  {
   "cell_type": "markdown",
   "id": "60c05942-622c-4c10-a2c4-e5785c3de47e",
   "metadata": {},
   "source": [
    "# [26082]번"
   ]
  },
  {
   "cell_type": "code",
   "execution_count": 39,
   "id": "8b0b7ccf-c1d1-46b0-b359-4ceb1f1318a7",
   "metadata": {},
   "outputs": [],
   "source": [
    "# 가격대비 성능 = 성능/가격이고, a = 경쟁사 가격, b = 경쟁사 성능, c = 워보이 가격일 때 워보이의 성능을 구해라"
   ]
  },
  {
   "cell_type": "code",
   "execution_count": 49,
   "id": "2396351b-0a80-47bc-992e-65f0746e30a6",
   "metadata": {},
   "outputs": [
    {
     "name": "stdin",
     "output_type": "stream",
     "text": [
      " 10 100 7\n"
     ]
    },
    {
     "name": "stdout",
     "output_type": "stream",
     "text": [
      "210\n"
     ]
    }
   ],
   "source": [
    "# 워보이 가격대비 성능은 = 경쟁사의 3배\n",
    "# 경쟁사의 가격대비 성능 = b / a \n",
    "\n",
    "Warboy_info = list(map(int, input().split()))\n",
    "Warboy_performance = ((3 * (Warboy_info[1] / Warboy_info[0])) * Warboy_info[2]) \n",
    "print(int(Warboy_performance))"
   ]
  },
  {
   "cell_type": "markdown",
   "id": "23707eb8-7352-492a-ac83-70a5e82d68f4",
   "metadata": {},
   "source": [
    "# [27433]번"
   ]
  },
  {
   "cell_type": "code",
   "execution_count": 76,
   "id": "aba2339a-0d09-478e-b769-00991f6314b2",
   "metadata": {},
   "outputs": [],
   "source": [
    "# 팩토리얼 계산기"
   ]
  },
  {
   "cell_type": "code",
   "execution_count": 73,
   "id": "76d2162e-cba8-40f7-a98f-ee12a26ce981",
   "metadata": {},
   "outputs": [
    {
     "name": "stdin",
     "output_type": "stream",
     "text": [
      " 10\n"
     ]
    },
    {
     "name": "stdout",
     "output_type": "stream",
     "text": [
      "3628800\n"
     ]
    }
   ],
   "source": [
    "num = int(input())\n",
    "fact = 1                        # 초기값 설정\n",
    "for i in range(1, num+1):       # i = 1 ~ 자기자신까지\n",
    "    fact *= i                   # 초기값에 계속 곱해서 대입하기    \n",
    "print(fact) \n",
    "\n",
    "# 2중 for문 전혀 필요없음"
   ]
  },
  {
   "cell_type": "markdown",
   "id": "6929a584-81df-4287-935f-721f387254f9",
   "metadata": {},
   "source": [
    "# [27889]번"
   ]
  },
  {
   "cell_type": "code",
   "execution_count": 83,
   "id": "d43dda91-58b0-4bb0-9dbe-330aa8ac9d30",
   "metadata": {},
   "outputs": [],
   "source": [
    "# 학교이름 약자로 주어지면 풀네임 출력하기"
   ]
  },
  {
   "cell_type": "code",
   "execution_count": 80,
   "id": "f294b7af-4a9a-4fdc-9768-e5485e042adf",
   "metadata": {},
   "outputs": [
    {
     "name": "stdin",
     "output_type": "stream",
     "text": [
      " NLCS\n"
     ]
    },
    {
     "name": "stdout",
     "output_type": "stream",
     "text": [
      "North London Collegiate School\n"
     ]
    }
   ],
   "source": [
    "school_name = input()\n",
    "\n",
    "if school_name == \"NLCS\":\n",
    "    print(\"North London Collegiate School\")\n",
    "elif school_name == \"BHA\":\n",
    "    print(\"Branksome Hall Asia\")\n",
    "elif school_name == \"KIS\":\n",
    "    print(\"Korea International School\")\n",
    "elif school_name == \"SJA\":\n",
    "    print(\"St. Johnsbury Academy\")\n",
    "\n"
   ]
  },
  {
   "cell_type": "markdown",
   "id": "2d4fa31e-ca0f-4518-aaee-3d7fc9abb186",
   "metadata": {},
   "source": [
    "# [27959]번"
   ]
  },
  {
   "cell_type": "code",
   "execution_count": 101,
   "id": "1ccebac1-00cf-454a-9dff-9d0ae1219677",
   "metadata": {},
   "outputs": [],
   "source": [
    "# 100원짜리 N개로 M원짜리 아이스크림을 먹을 수 있는가?"
   ]
  },
  {
   "cell_type": "code",
   "execution_count": 97,
   "id": "76503e18-4749-4c91-87e7-07727e6efed5",
   "metadata": {},
   "outputs": [
    {
     "name": "stdin",
     "output_type": "stream",
     "text": [
      " 7 785\n"
     ]
    },
    {
     "name": "stdout",
     "output_type": "stream",
     "text": [
      "No\n"
     ]
    }
   ],
   "source": [
    "N, M = list(map(int, input().split()))  # 2개의 변수를 동시에 설정할 때에는 list(map(int, input().split()))\n",
    "if 100 * N >= M:\n",
    "    print(\"Yes\")\n",
    "else:\n",
    "    print(\"No\")"
   ]
  },
  {
   "cell_type": "markdown",
   "id": "d19bf594-e9bb-4f01-8ba5-696193e7f04d",
   "metadata": {},
   "source": [
    "# [28113]번"
   ]
  },
  {
   "cell_type": "code",
   "execution_count": 104,
   "id": "4f2e7d93-089c-4046-b427-3141ba5fbc40",
   "metadata": {},
   "outputs": [],
   "source": [
    "#버스에 더 먼저 탑승할 수 있으면 Bus, 지하철에 더 먼저 탑승할 수 있으면 Subway,\n",
    "#버스와 지하철에 탑승하게 되는 시간이 동일하면 Anything을 출력한다.\n",
    "# A분 뒤에 버스 도착, \n",
    "# B분 뒤에 열차 도착\n",
    "# N분 동안 전철에 걸어가야함\n",
    "# 나는 현재 버스 정류장에 서있음"
   ]
  },
  {
   "cell_type": "code",
   "execution_count": 118,
   "id": "26611e32-091a-41a5-a70e-30aa5068a858",
   "metadata": {},
   "outputs": [
    {
     "name": "stdin",
     "output_type": "stream",
     "text": [
      " 1 100 1\n"
     ]
    },
    {
     "name": "stdout",
     "output_type": "stream",
     "text": [
      "Subway\n"
     ]
    }
   ],
   "source": [
    "N, A, B = list(map(int, input().split()))\n",
    "if B == N and A == N:\n",
    "    print(\"Anything\")\n",
    "elif A < B + N:\n",
    "    print(\"Bus\")\n",
    "elif A > B + N:\n",
    "    print(\"Subway\")\n"
   ]
  },
  {
   "cell_type": "markdown",
   "id": "ad242fdd-02cc-4bed-9a81-fcb510819420",
   "metadata": {},
   "source": [
    "# [28235]번"
   ]
  },
  {
   "cell_type": "code",
   "execution_count": 138,
   "id": "d5a758b7-c536-433c-a60b-4211fd7b6b7a",
   "metadata": {},
   "outputs": [
    {
     "name": "stdin",
     "output_type": "stream",
     "text": [
      " CODE\n"
     ]
    },
    {
     "name": "stdout",
     "output_type": "stream",
     "text": [
      "MASTER\n"
     ]
    }
   ],
   "source": [
    "name = input()\n",
    "if name == \"SONGDO\":\n",
    "    print(\"HIGHSHCOOL\")\n",
    "elif name == \"CODE\":\n",
    "    print(\"MASTER\")\n",
    "elif name == \"2023\":\n",
    "    print(\"0611\")\n",
    "elif name == \"ALGORITHM\":\n",
    "    print(\"CONTEST\")"
   ]
  },
  {
   "cell_type": "markdown",
   "id": "74e44858-c0d2-4273-b3f7-df2836414e10",
   "metadata": {},
   "source": [
    "# [29751]번"
   ]
  },
  {
   "cell_type": "code",
   "execution_count": 142,
   "id": "967e5568-8c32-4be0-9886-10585194ecd0",
   "metadata": {},
   "outputs": [],
   "source": [
    "# 밑변 W, 높이H인 삼각형의 넓이를 구해라\n",
    "# 삼각형의 넓이 = 1/2(밑 * 높)"
   ]
  },
  {
   "cell_type": "code",
   "execution_count": 146,
   "id": "0dd45e19-c846-4875-8a47-8b322b42473c",
   "metadata": {},
   "outputs": [
    {
     "name": "stdin",
     "output_type": "stream",
     "text": [
      " 2 3\n"
     ]
    },
    {
     "name": "stdout",
     "output_type": "stream",
     "text": [
      "3.0\n"
     ]
    }
   ],
   "source": [
    "W, H = map(int, input().split())\n",
    "tri = 0.5 * (W * H)\n",
    "print(tri)"
   ]
  },
  {
   "cell_type": "markdown",
   "id": "eb652f1e-b232-434d-b491-4a43798a03b8",
   "metadata": {},
   "source": [
    "# [30030]번"
   ]
  },
  {
   "cell_type": "code",
   "execution_count": 149,
   "id": "2019a5ed-34dd-4ada-ac1a-c439b5d90192",
   "metadata": {},
   "outputs": [],
   "source": [
    "# 원래가치 A에 10% 더한 가격이 B이다\n",
    "# B를 제시해줬을 때 원래가치 A를 구하라"
   ]
  },
  {
   "cell_type": "code",
   "execution_count": 153,
   "id": "363949fb-b420-44dd-ab5e-375d37f7fa28",
   "metadata": {},
   "outputs": [
    {
     "name": "stdin",
     "output_type": "stream",
     "text": [
      " 2700\n"
     ]
    },
    {
     "name": "stdout",
     "output_type": "stream",
     "text": [
      "2454.5454545454545\n"
     ]
    }
   ],
   "source": [
    "price = int(input())\n",
    "original = price * (100/110)\n",
    "print(original)"
   ]
  },
  {
   "cell_type": "code",
   "execution_count": null,
   "id": "c6fcd2a3-3ebc-4cb7-a9d7-6fe2a9c21c30",
   "metadata": {},
   "outputs": [],
   "source": []
  }
 ],
 "metadata": {
  "kernelspec": {
   "display_name": "Python 3 (ipykernel)",
   "language": "python",
   "name": "python3"
  },
  "language_info": {
   "codemirror_mode": {
    "name": "ipython",
    "version": 3
   },
   "file_extension": ".py",
   "mimetype": "text/x-python",
   "name": "python",
   "nbconvert_exporter": "python",
   "pygments_lexer": "ipython3",
   "version": "3.12.4"
  }
 },
 "nbformat": 4,
 "nbformat_minor": 5
}
