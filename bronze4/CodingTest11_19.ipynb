{
 "cells": [
  {
   "cell_type": "markdown",
   "id": "8fba55ec-9909-43c7-bcf8-be07c6fdc3a6",
   "metadata": {},
   "source": [
    "# [5596번]"
   ]
  },
  {
   "cell_type": "code",
   "execution_count": 2,
   "id": "3b0c6d92-9b6f-4b1f-899c-a23f6b9b6d96",
   "metadata": {},
   "outputs": [],
   "source": [
    "# 두 명의 4과목 점수의 총합 중 더 큰 수를 출력하라."
   ]
  },
  {
   "cell_type": "code",
   "execution_count": 8,
   "id": "85d59bba-f2ef-4246-8772-353ec5409bb9",
   "metadata": {},
   "outputs": [
    {
     "name": "stdin",
     "output_type": "stream",
     "text": [
      " 100 80 70 60\n",
      " 80 70 80 90\n"
     ]
    },
    {
     "name": "stdout",
     "output_type": "stream",
     "text": [
      "320\n"
     ]
    }
   ],
   "source": [
    "s1 = list(map(int,input().split()))\n",
    "s2 = list(map(int, input().split()))\n",
    "sum1 = 0\n",
    "sum2 = 0\n",
    "\n",
    "for i in range(len(s1)):\n",
    "    sum1 += s1[i]\n",
    "\n",
    "for i in range(len(s2)):\n",
    "    sum2 += s2[i]\n",
    "\n",
    "if sum1 >= sum2:\n",
    "    print(sum1)\n",
    "else:\n",
    "    print(sum2)"
   ]
  },
  {
   "cell_type": "markdown",
   "id": "f6a2b495-c349-4bec-999d-52c56ad7ecc2",
   "metadata": {},
   "source": [
    "# [5717번]"
   ]
  },
  {
   "cell_type": "code",
   "execution_count": 1,
   "id": "40be1fa1-ce8d-477d-ba2a-9c58dfa98fa2",
   "metadata": {},
   "outputs": [],
   "source": [
    "# 남자와 여자의 명수를 받아서 합을 출력하는 프로그램"
   ]
  },
  {
   "cell_type": "code",
   "execution_count": 25,
   "id": "74e10b8d-d149-4dd2-a810-9287e9467dfa",
   "metadata": {},
   "outputs": [
    {
     "name": "stdin",
     "output_type": "stream",
     "text": [
      " 2 2\n"
     ]
    },
    {
     "name": "stdout",
     "output_type": "stream",
     "text": [
      "4\n"
     ]
    },
    {
     "name": "stdin",
     "output_type": "stream",
     "text": [
      " 2 3\n"
     ]
    },
    {
     "name": "stdout",
     "output_type": "stream",
     "text": [
      "5\n"
     ]
    },
    {
     "name": "stdin",
     "output_type": "stream",
     "text": [
      " 5 5\n"
     ]
    },
    {
     "name": "stdout",
     "output_type": "stream",
     "text": [
      "10\n"
     ]
    },
    {
     "name": "stdin",
     "output_type": "stream",
     "text": [
      " 1 1\n"
     ]
    },
    {
     "name": "stdout",
     "output_type": "stream",
     "text": [
      "2\n"
     ]
    },
    {
     "name": "stdin",
     "output_type": "stream",
     "text": [
      " 0 0\n"
     ]
    }
   ],
   "source": [
    "while True:\n",
    "        M, F = map(int, input().split())\n",
    "        if M == 0 and F == 0:\n",
    "            break\n",
    "        else:\n",
    "            print(M + F)"
   ]
  },
  {
   "cell_type": "markdown",
   "id": "e2155445-78e9-4583-957b-1ee895820b86",
   "metadata": {},
   "source": [
    "# [9295번] "
   ]
  },
  {
   "cell_type": "code",
   "execution_count": 16,
   "id": "3e882d91-54fb-4ef2-8849-6085f088c539",
   "metadata": {},
   "outputs": [],
   "source": [
    "# 두 수의 합을 출력할 때 문자열과 정수를 적절하게 섞어서 원하는 형태로 출력하기"
   ]
  },
  {
   "cell_type": "code",
   "execution_count": 14,
   "id": "51ef59a6-c50c-4e92-93ca-75813bf2bcd7",
   "metadata": {},
   "outputs": [
    {
     "name": "stdin",
     "output_type": "stream",
     "text": [
      " 5\n",
      " 1 2\n"
     ]
    },
    {
     "name": "stdout",
     "output_type": "stream",
     "text": [
      "Case 1: 3\n"
     ]
    },
    {
     "name": "stdin",
     "output_type": "stream",
     "text": [
      " 1 3\n"
     ]
    },
    {
     "name": "stdout",
     "output_type": "stream",
     "text": [
      "Case 2: 4\n"
     ]
    },
    {
     "name": "stdin",
     "output_type": "stream",
     "text": [
      " 3 5\n"
     ]
    },
    {
     "name": "stdout",
     "output_type": "stream",
     "text": [
      "Case 3: 8\n"
     ]
    },
    {
     "name": "stdin",
     "output_type": "stream",
     "text": [
      " 2 6\n"
     ]
    },
    {
     "name": "stdout",
     "output_type": "stream",
     "text": [
      "Case 4: 8\n"
     ]
    },
    {
     "name": "stdin",
     "output_type": "stream",
     "text": [
      " 3 4\n"
     ]
    },
    {
     "name": "stdout",
     "output_type": "stream",
     "text": [
      "Case 5: 7\n"
     ]
    }
   ],
   "source": [
    "N = int(input())\n",
    "for i in range(N):\n",
    "    n1, n2 = map(int, input().split())\n",
    "    print(\"Case \", i+1, \": \", n1+n2, sep = \"\") "
   ]
  },
  {
   "cell_type": "markdown",
   "id": "23216a3a-7831-4b25-9270-7382793ff4e0",
   "metadata": {},
   "source": [
    "# [10039번]"
   ]
  },
  {
   "cell_type": "code",
   "execution_count": 19,
   "id": "c7b2e373-6150-4eaf-b1bd-fcf6f5f44ac6",
   "metadata": {},
   "outputs": [],
   "source": [
    "# 다섯명의 점수를 입력받아서 평균을 출력하는 프로그램"
   ]
  },
  {
   "cell_type": "code",
   "execution_count": 27,
   "id": "57fc851f-29d9-416f-a7d9-01345fe1a376",
   "metadata": {},
   "outputs": [
    {
     "name": "stdin",
     "output_type": "stream",
     "text": [
      " 10\n",
      " 65\n",
      " 100\n",
      " 30\n",
      " 95\n"
     ]
    },
    {
     "name": "stdout",
     "output_type": "stream",
     "text": [
      "68\n"
     ]
    }
   ],
   "source": [
    "a = list()\n",
    "total = 0\n",
    "\n",
    "#for i in range(5):\n",
    "#    a[i] = int(input()) 처음에는 이렇게 코딩했는데, 빈리스트에는 인덱스를 설정할 수 없다\n",
    "#    sum += a[i]          .append()라는 함수를 사용하자\n",
    "\n",
    "for i in range(5):\n",
    "    s = int(input())\n",
    "    if s < 40:\n",
    "        s = 40\n",
    "    a.append(s)\n",
    "    total += a[i]\n",
    "print(total // 5)"
   ]
  },
  {
   "cell_type": "markdown",
   "id": "96787baa-3b2f-4b6a-af34-02b3d5c9c0ce",
   "metadata": {},
   "source": [
    "# [10101번]"
   ]
  },
  {
   "cell_type": "code",
   "execution_count": 32,
   "id": "8781ba11-a0c7-4d01-91e5-433fb0e6be42",
   "metadata": {},
   "outputs": [],
   "source": [
    "# 3개의 각의 크기를 입력받고 조건에 따라 어떤 삼각형인지 출력하는 프로그램"
   ]
  },
  {
   "cell_type": "code",
   "execution_count": 46,
   "id": "28e0bff7-7b25-48ab-97a7-c619894720e8",
   "metadata": {},
   "outputs": [
    {
     "name": "stdin",
     "output_type": "stream",
     "text": [
      " 80\n",
      " 80\n",
      " 20\n"
     ]
    },
    {
     "name": "stdout",
     "output_type": "stream",
     "text": [
      "Isosceles\n"
     ]
    }
   ],
   "source": [
    "n = list()\n",
    "for i in range(3):\n",
    "    a = int(input())\n",
    "    n.append(a)\n",
    "\n",
    "\n",
    "total = n[0] + n[1] + n[2]\n",
    "\n",
    "if total == 180:\n",
    "    if n[0] == n[1] == n[2]:\n",
    "        print(\"Equilateral\")\n",
    "    elif n[0] == n[1] != n[2] or n[0] != n[1] == n[2] or n[0] == n[2] != n[1]:\n",
    "        print(\"Isosceles\")\n",
    "    elif n[0] != n[1] != n[2]:\n",
    "        print(\"Scalene\")\n",
    "else:\n",
    "    print(\"Error\")\n"
   ]
  },
  {
   "cell_type": "code",
   "execution_count": null,
   "id": "52c6bcbc-f819-4a2f-8e5f-39135408af6f",
   "metadata": {},
   "outputs": [],
   "source": []
  }
 ],
 "metadata": {
  "kernelspec": {
   "display_name": "Python 3 (ipykernel)",
   "language": "python",
   "name": "python3"
  },
  "language_info": {
   "codemirror_mode": {
    "name": "ipython",
    "version": 3
   },
   "file_extension": ".py",
   "mimetype": "text/x-python",
   "name": "python",
   "nbconvert_exporter": "python",
   "pygments_lexer": "ipython3",
   "version": "3.12.4"
  }
 },
 "nbformat": 4,
 "nbformat_minor": 5
}
