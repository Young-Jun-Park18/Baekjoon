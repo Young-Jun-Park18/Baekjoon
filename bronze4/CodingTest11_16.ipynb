{
 "cells": [
  {
   "cell_type": "markdown",
   "id": "8d343993",
   "metadata": {},
   "source": [
    "# [1264번]"
   ]
  },
  {
   "cell_type": "code",
   "execution_count": 22,
   "id": "c3be0fce",
   "metadata": {},
   "outputs": [],
   "source": [
    "# 각 줄마다 모음의 개수를 세서 출력한다."
   ]
  },
  {
   "cell_type": "code",
   "execution_count": 21,
   "id": "6deb3a25",
   "metadata": {},
   "outputs": [
    {
     "name": "stdout",
     "output_type": "stream",
     "text": [
      "How are you today?\n",
      "7\n",
      "Quite well, thank you, how about yourself?\n",
      "14\n",
      "I live at number twenty four.\n",
      "9\n",
      "#\n"
     ]
    }
   ],
   "source": [
    "while True:\n",
    "    num = input()\n",
    "    if num == '#':\n",
    "        break\n",
    "    count = 0                                 \n",
    "    for i in range(len(num)):\n",
    "        if num[i] == 'a' or num[i] == 'A':\n",
    "            count += 1\n",
    "        elif num[i] == 'e' or num[i] == 'E':\n",
    "            count += 1\n",
    "        elif num[i] == 'i' or num[i] == 'I':\n",
    "            count += 1\n",
    "        elif num[i] == 'o' or num[i] == 'O':\n",
    "            count += 1\n",
    "        elif num[i] == 'u' or num[i] == 'U':\n",
    "            count += 1\n",
    "    print(count)\n",
    "\n",
    "\n",
    "# input()  은 입력한 문장 전체를 하나로 인식하고\n",
    "# input().split() 은 띄어쓰기를 기준으로 하나로 인식하고\n",
    "# list(input()) 은 자음과 모음 하나하나를 하나로 인식하고\n",
    "# n, m = map(int, input().split()) 은 공백을 기준으로 n과 m에 대입한다\n",
    "               \n",
    "               \n",
    "# error1 : range(int(num)) 을 사용했다가 계속 error 났는데, \n",
    "#          알고보니 len(num)을 사용하면 쉽게 해결\n",
    "\n",
    "# error2 : num = list(input()) 으로 저장했더니 #을 입력해도 루프가 안 끝남\n",
    "#          num = input()으로 리스트로 묶은 것을 뺏더니 끝남        \n"
   ]
  },
  {
   "cell_type": "markdown",
   "id": "5f8b9a5e",
   "metadata": {},
   "source": [
    "# [1624-2번 방법]"
   ]
  },
  {
   "cell_type": "code",
   "execution_count": 24,
   "id": "4c64b693",
   "metadata": {},
   "outputs": [
    {
     "name": "stdout",
     "output_type": "stream",
     "text": [
      "babo\n",
      "2\n",
      "#\n"
     ]
    }
   ],
   "source": [
    "word_list = ['a','e','i','o','u','A','E','I','O','U']\n",
    "\n",
    "while True:\n",
    "    count = 0\n",
    "    N = input()\n",
    "    if N == '#':\n",
    "        break\n",
    "    for i in N:\n",
    "        if i in word_list:\n",
    "            count += 1\n",
    "    print(count)\n",
    "    \n",
    "# 리스트에 모음을 저장하고,\n",
    "# 예외문을 먼저 설정한다\n",
    "# for i in 문장\n",
    "# if i in 리스트"
   ]
  },
  {
   "cell_type": "markdown",
   "id": "efcb0f15",
   "metadata": {},
   "source": [
    "# [2083번]"
   ]
  },
  {
   "cell_type": "code",
   "execution_count": null,
   "id": "7a48cca1",
   "metadata": {},
   "outputs": [],
   "source": [
    "#올 골드 럭비 클럽의 회원들은 성인부 또는 청소년부로 분류된다.\n",
    "#나이가 17세보다 많거나, 몸무게가 80kg 이상이면 성인부이다.\n",
    "#그 밖에는 모두 청소년부이다. 클럽 회원들을 올바르게 분류하라."
   ]
  },
  {
   "cell_type": "code",
   "execution_count": 35,
   "id": "1f2a156f",
   "metadata": {
    "scrolled": false
   },
   "outputs": [
    {
     "name": "stdout",
     "output_type": "stream",
     "text": [
      "Joe 16 34\n",
      "Joe Junior\n",
      "Bill 18 65\n",
      "Bill Senior\n",
      "Billy 17 65\n",
      "Billy Senior\n",
      "Sam 17 85\n",
      "Sam Senior\n",
      "# 0 0\n"
     ]
    }
   ],
   "source": [
    "while True:\n",
    "    name, age, weight = input().split()\n",
    "    age = int(age)\n",
    "    weight = int(weight)\n",
    "    if name == '#' or age == 0 or weight == 0:\n",
    "        break\n",
    "    if age > 17 or weight >= 80:\n",
    "        print(name, \"Senior\", sep=\" \")\n",
    "    else:\n",
    "        print(name, \"Junior\", sep = \" \")"
   ]
  },
  {
   "cell_type": "markdown",
   "id": "7561e172",
   "metadata": {},
   "source": [
    "# [2440번] "
   ]
  },
  {
   "cell_type": "code",
   "execution_count": 7,
   "id": "3d1a99af",
   "metadata": {},
   "outputs": [],
   "source": [
    "#첫째 줄에는 별 N개, 둘째 줄에는 별 N-1개, ..., N번째 줄에는 별 1개를 찍는 문제"
   ]
  },
  {
   "cell_type": "code",
   "execution_count": 8,
   "id": "fca1db20",
   "metadata": {},
   "outputs": [
    {
     "name": "stdout",
     "output_type": "stream",
     "text": [
      "5\n",
      "*****\n",
      "****\n",
      "***\n",
      "**\n",
      "*\n"
     ]
    }
   ],
   "source": [
    "num = int(input())\n",
    "\n",
    "for i in range(num):\n",
    "    for j in range(num-i):\n",
    "        print(\"*\", end=\"\")\n",
    "    print(\"\")"
   ]
  },
  {
   "cell_type": "code",
   "execution_count": null,
   "id": "bc0e5433",
   "metadata": {},
   "outputs": [],
   "source": [
    "hour, minute, sec"
   ]
  }
 ],
 "metadata": {
  "kernelspec": {
   "display_name": "Python 3 (ipykernel)",
   "language": "python",
   "name": "python3"
  },
  "language_info": {
   "codemirror_mode": {
    "name": "ipython",
    "version": 3
   },
   "file_extension": ".py",
   "mimetype": "text/x-python",
   "name": "python",
   "nbconvert_exporter": "python",
   "pygments_lexer": "ipython3",
   "version": "3.9.12"
  }
 },
 "nbformat": 4,
 "nbformat_minor": 5
}
