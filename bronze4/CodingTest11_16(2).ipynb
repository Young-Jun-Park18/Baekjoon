{
 "cells": [
  {
   "cell_type": "markdown",
   "id": "d9e08f25-3cdf-4a5d-b536-fed5e2867ed4",
   "metadata": {},
   "source": [
    "# [2530번]"
   ]
  },
  {
   "cell_type": "code",
   "execution_count": 8,
   "id": "49fb99ba-3e23-431c-ba0a-dd5921c54ce2",
   "metadata": {},
   "outputs": [],
   "source": [
    "#훈제오리구이를 시작하는 시각과 오븐구이를 하는 데 필요한 시간이 초 단위로 주어졌을 때,\n",
    "#오븐구이가 끝나는 시각을 계산하는 프로그램을 작성하시오."
   ]
  },
  {
   "cell_type": "code",
   "execution_count": 5,
   "id": "9cc3ce92-5306-47a7-98cc-4e43f1660b73",
   "metadata": {},
   "outputs": [
    {
     "name": "stdin",
     "output_type": "stream",
     "text": [
      " 23 48 59\n",
      " 2515\n"
     ]
    },
    {
     "name": "stdout",
     "output_type": "stream",
     "text": [
      "0 30 54\n"
     ]
    }
   ],
   "source": [
    "hour, minute, second = map(int, input().split())   # 입력된 현재 시간, 분, 초\n",
    "time = int(input())                                # 요리에 필요한 시간\n",
    "\n",
    "second += time\n",
    "\n",
    "while True:\n",
    "    if second > 59:\n",
    "        minute +=1\n",
    "        second -= 60\n",
    "    if minute > 59:\n",
    "        hour += 1\n",
    "        minute -= 60\n",
    "    if hour > 23:\n",
    "        hour -= 24\n",
    "    if second < 60 and minute < 60 and hour < 24:\n",
    "        print(hour, minute, second, sep =\" \")\n",
    "        break\n",
    "        \n",
    "\n",
    "    \n",
    "    \n",
    "    "
   ]
  },
  {
   "cell_type": "markdown",
   "id": "f095ed3c-4337-4875-98c4-9634653e8956",
   "metadata": {},
   "source": [
    "# [2752번]"
   ]
  },
  {
   "cell_type": "code",
   "execution_count": 11,
   "id": "4e10c223-df44-4f00-bbfd-1c5ac901a473",
   "metadata": {},
   "outputs": [],
   "source": [
    "#정수 세 개가 주어졌을 때, 가장 작은 수, 그 다음 수, 가장 큰 수를 출력하는 프로그램을 작성하시오."
   ]
  },
  {
   "cell_type": "code",
   "execution_count": 25,
   "id": "a4638ad0-4009-4d9b-86d4-7fd992f43e10",
   "metadata": {},
   "outputs": [
    {
     "name": "stdin",
     "output_type": "stream",
     "text": [
      " 3 1 2\n"
     ]
    },
    {
     "name": "stdout",
     "output_type": "stream",
     "text": [
      "1 2 3\n"
     ]
    }
   ],
   "source": [
    "n1, n2, n3 = map(int, input().split())\n",
    "\n",
    "\n",
    "if n1 > n2 and n1 > n3:\n",
    "    if n2 > n3:\n",
    "        print(n3, n2, n1)\n",
    "    else:\n",
    "        print(n2, n3, n1)\n",
    "elif n2 > n1 and n2 > n3:\n",
    "    if n1 > n3:\n",
    "        print(n3, n1, n2)\n",
    "    else:\n",
    "        print(n1, n3, n2)\n",
    "elif n3 > n1 and n3 > n2:\n",
    "    if n1 > n2:\n",
    "        print(n2, n1, n3)\n",
    "    else:\n",
    "        print(n1, n2, n3)\n",
    "\n",
    "\n"
   ]
  },
  {
   "cell_type": "code",
   "execution_count": 27,
   "id": "7befdf33-0e9e-40ec-aeac-8d6e095c72bf",
   "metadata": {},
   "outputs": [],
   "source": [
    "# 위 코드도 맞았지만 가독성이 너무 떨어진다, 구글에 클린코드를 찾아보겠다"
   ]
  },
  {
   "cell_type": "code",
   "execution_count": 39,
   "id": "e39455b9-752d-4042-acce-aa1c813132ac",
   "metadata": {},
   "outputs": [
    {
     "name": "stdin",
     "output_type": "stream",
     "text": [
      " 3 1 2\n"
     ]
    },
    {
     "name": "stdout",
     "output_type": "stream",
     "text": [
      "1 2 3 "
     ]
    }
   ],
   "source": [
    "number = list(map(int, input().split())) # 리스트를 만들어주고\n",
    "number.sort(reverse = False)                            # 리스트의 .sort() 함수를 사용하면 오름차순 정렬된다\n",
    "#number.sort(reverse = True)             # .sort() 함수에는 reverse라는 속성이 있어서 역순정렬가능\n",
    "#number.sort(reverse = False)\n",
    "for i in range(len(number)):\n",
    "    print(number[i], end = \" \")"
   ]
  },
  {
   "cell_type": "code",
   "execution_count": null,
   "id": "6a411a31-09a0-4f52-85f7-841e97a0164b",
   "metadata": {},
   "outputs": [],
   "source": [
    "# 리스트의 사용가능한 함수들을 찾아보자\n",
    "list.append('value')                           # 리스트 가장 끝에 원소 추가\n",
    "list.extend( ['value1', 'value2', 'value3']  ) # 리스트 끝에 여러 원소를 추가\n",
    "list.insert(index, 'value')                    # 리스트의 원하는 인덱스에 값을 추가\n",
    "list.remove('value')                           # 리스트의 원하는 원소 삭제 ( 가장 앞에 것만 지움 )"
   ]
  },
  {
   "cell_type": "code",
   "execution_count": 41,
   "id": "0e2fcdc6-26d6-4a24-ad12-5e829b0b6f1c",
   "metadata": {},
   "outputs": [
    {
     "name": "stdout",
     "output_type": "stream",
     "text": [
      "['a', 'a', 'b', 'c']\n",
      "['a', 'b', 'c']\n"
     ]
    }
   ],
   "source": [
    "a = list()\n",
    "a.extend(['a','a','b','c'])\n",
    "print(a)\n",
    "a.remove('a')\n",
    "print(a)"
   ]
  },
  {
   "cell_type": "markdown",
   "id": "10639e6f-d349-44ed-b1b7-89a8d3051831",
   "metadata": {},
   "source": [
    "# [2845번]"
   ]
  },
  {
   "cell_type": "code",
   "execution_count": 52,
   "id": "6a54b86b-ab2e-489c-a46d-a7d2e800dab0",
   "metadata": {},
   "outputs": [],
   "source": [
    "# 첫 줄에는 평수와 사람수\n",
    "# 둘째 줄에는 각 방송국마다 평수당 사람수\n",
    "# 오차를 구해라"
   ]
  },
  {
   "cell_type": "code",
   "execution_count": 50,
   "id": "34375ec6-2707-4d3a-9bc1-fd0984bee7e5",
   "metadata": {},
   "outputs": [
    {
     "name": "stdin",
     "output_type": "stream",
     "text": [
      " 5 20\n",
      " 99 101 1000 0 97\n"
     ]
    },
    {
     "name": "stdout",
     "output_type": "stream",
     "text": [
      "-1 1 900 -100 -3 "
     ]
    }
   ],
   "source": [
    "L, P = map(int, input().split())\n",
    "info = int(L * P)\n",
    "news = list(map(int, input().split()))\n",
    "\n",
    "for i in range(len(news)):\n",
    "    if news[i] == info:\n",
    "        print(int(0), end = \" \")\n",
    "    else:\n",
    "        print(news[i] - info, end = \" \")\n",
    "\n",
    "        "
   ]
  },
  {
   "cell_type": "markdown",
   "id": "4c02a861-8dde-4e00-aafb-99793197b917",
   "metadata": {},
   "source": [
    "# [3046번] "
   ]
  },
  {
   "cell_type": "code",
   "execution_count": null,
   "id": "fb8b4506-94eb-4163-9858-07774549f695",
   "metadata": {},
   "outputs": [],
   "source": [
    "# 숫자1개와 평균을 주어졌을 때 숫자2를 구해라"
   ]
  },
  {
   "cell_type": "code",
   "execution_count": 54,
   "id": "1d19fa5a-2542-4b13-af51-20b0b447b689",
   "metadata": {},
   "outputs": [
    {
     "name": "stdin",
     "output_type": "stream",
     "text": [
      " 11 15\n"
     ]
    },
    {
     "name": "stdout",
     "output_type": "stream",
     "text": [
      "19\n"
     ]
    }
   ],
   "source": [
    "num1, average = map(int, input().split())\n",
    "\n",
    "num2 = ( average * 2 ) - num1\n",
    "print(num2)"
   ]
  },
  {
   "cell_type": "markdown",
   "id": "0d68214f-4bba-43d8-9db7-15b0c539923b",
   "metadata": {},
   "source": [
    "# [4299번]"
   ]
  },
  {
   "cell_type": "code",
   "execution_count": 76,
   "id": "3cfa8e52-ef94-4bb5-8d91-fa401330c83b",
   "metadata": {},
   "outputs": [
    {
     "name": "stdin",
     "output_type": "stream",
     "text": [
      " 3 1\n"
     ]
    },
    {
     "name": "stdout",
     "output_type": "stream",
     "text": [
      "2 1\n"
     ]
    }
   ],
   "source": [
    "# 문제 자체가 별로임 스킵\n",
    "sum, diff = map(int, input().split())\n",
    "\n",
    "a = int((sum - diff) / 2)\n",
    "b = int(sum - a)\n",
    "\n",
    "if a > b:\n",
    "    print(a, b, sep =\" \")\n",
    "elif a < b:\n",
    "    print(b, a, sep =\" \")\n",
    "elif  sum+diff < 0 or sum-diff < 0 or (sum + diff) % 2:\n",
    "    print(-1)\n",
    "# 2차 방정식을 연립해서 푼다"
   ]
  },
  {
   "cell_type": "markdown",
   "id": "607fcc78-311f-42f4-981a-190a4d692f3b",
   "metadata": {},
   "source": [
    "# [4470번]"
   ]
  },
  {
   "cell_type": "code",
   "execution_count": 95,
   "id": "3649dc2f-a779-414b-b6e7-bf2ef81c348a",
   "metadata": {},
   "outputs": [],
   "source": [
    "# 사람의 이름을 입력하면 앞에 줄번호를 표시하는 코드를 입력하시오"
   ]
  },
  {
   "cell_type": "code",
   "execution_count": 93,
   "id": "e2c63259-9590-43ff-9b58-ab0630efc55a",
   "metadata": {},
   "outputs": [
    {
     "name": "stdin",
     "output_type": "stream",
     "text": [
      " 5\n",
      " Lionel Cosgrove\n"
     ]
    },
    {
     "name": "stdout",
     "output_type": "stream",
     "text": [
      "1. Lionel Cosgrove\n"
     ]
    },
    {
     "name": "stdin",
     "output_type": "stream",
     "text": [
      " Alice\n"
     ]
    },
    {
     "name": "stdout",
     "output_type": "stream",
     "text": [
      "2. Alice\n"
     ]
    },
    {
     "name": "stdin",
     "output_type": "stream",
     "text": [
      " Columbus and Tallahassee\n"
     ]
    },
    {
     "name": "stdout",
     "output_type": "stream",
     "text": [
      "3. Columbus and Tallahassee\n"
     ]
    },
    {
     "name": "stdin",
     "output_type": "stream",
     "text": [
      " Shaun and Ed\n"
     ]
    },
    {
     "name": "stdout",
     "output_type": "stream",
     "text": [
      "4. Shaun and Ed\n"
     ]
    },
    {
     "name": "stdin",
     "output_type": "stream",
     "text": [
      " Fido\n"
     ]
    },
    {
     "name": "stdout",
     "output_type": "stream",
     "text": [
      "5. Fido\n"
     ]
    }
   ],
   "source": [
    "N = int(input())\n",
    "\n",
    "for i in range(N):\n",
    "    str_input = input()\n",
    "    print(i+1,'.', sep =\"\", end =\" \")\n",
    "    print(str_input)"
   ]
  },
  {
   "cell_type": "code",
   "execution_count": null,
   "id": "84e2fb2b-ff70-4b35-88f4-1887d73eb135",
   "metadata": {},
   "outputs": [],
   "source": []
  },
  {
   "cell_type": "code",
   "execution_count": null,
   "id": "9bc5e8d9-9be8-4b2c-876e-7f6fe591353e",
   "metadata": {},
   "outputs": [],
   "source": []
  }
 ],
 "metadata": {
  "kernelspec": {
   "display_name": "Python 3 (ipykernel)",
   "language": "python",
   "name": "python3"
  },
  "language_info": {
   "codemirror_mode": {
    "name": "ipython",
    "version": 3
   },
   "file_extension": ".py",
   "mimetype": "text/x-python",
   "name": "python",
   "nbconvert_exporter": "python",
   "pygments_lexer": "ipython3",
   "version": "3.12.4"
  }
 },
 "nbformat": 4,
 "nbformat_minor": 5
}
