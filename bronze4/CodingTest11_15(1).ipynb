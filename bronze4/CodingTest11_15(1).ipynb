{
 "cells": [
  {
   "cell_type": "markdown",
   "id": "95e1be69",
   "metadata": {},
   "source": [
    "# [1264번]"
   ]
  },
  {
   "cell_type": "code",
   "execution_count": 22,
   "id": "23c073aa",
   "metadata": {},
   "outputs": [],
   "source": [
    "# 각 줄마다 모음의 개수를 세서 출력한다."
   ]
  },
  {
   "cell_type": "code",
   "execution_count": 21,
   "id": "6deb3a25",
   "metadata": {},
   "outputs": [
    {
     "name": "stdout",
     "output_type": "stream",
     "text": [
      "How are you today?\n",
      "7\n",
      "Quite well, thank you, how about yourself?\n",
      "14\n",
      "I live at number twenty four.\n",
      "9\n",
      "#\n"
     ]
    }
   ],
   "source": [
    "while True:\n",
    "    num = input()\n",
    "    if num == '#':\n",
    "        break\n",
    "    count = 0                                 \n",
    "    for i in range(len(num)):\n",
    "        if num[i] == 'a' or num[i] == 'A':\n",
    "            count += 1\n",
    "        elif num[i] == 'e' or num[i] == 'E':\n",
    "            count += 1\n",
    "        elif num[i] == 'i' or num[i] == 'I':\n",
    "            count += 1\n",
    "        elif num[i] == 'o' or num[i] == 'O':\n",
    "            count += 1\n",
    "        elif num[i] == 'u' or num[i] == 'U':\n",
    "            count += 1\n",
    "    print(count)\n",
    "\n",
    "\n",
    "# input()  은 입력한 문장 전체를 하나로 인식하고\n",
    "# input().split() 은 띄어쓰기를 기준으로 하나로 인식하고\n",
    "# list(input()) 은 자음과 모음 하나하나를 하나로 인식하고\n",
    "# n, m = map(int, input().split()) 은 공백을 기준으로 n과 m에 대입한다\n",
    "               \n",
    "               \n",
    "# error1 : range(int(num)) 을 사용했다가 계속 error 났는데, \n",
    "#          알고보니 len(num)을 사용하면 쉽게 해결\n",
    "\n",
    "# error2 : num = list(input()) 으로 저장했더니 #을 입력해도 루프가 안 끝남\n",
    "#          num = input()으로 리스트로 묶은 것을 뺏더니 끝남        \n"
   ]
  },
  {
   "cell_type": "markdown",
   "id": "e24f4385",
   "metadata": {},
   "source": [
    "# [1624-2번 방법]"
   ]
  },
  {
   "cell_type": "code",
   "execution_count": 23,
   "id": "3486b7ec",
   "metadata": {},
   "outputs": [],
   "source": [
    "word_list = ['a','e','i','o','u','A','E','I','O','U']\n",
    "\n",
    "while True:\n",
    "    count = 0\n",
    "    N = input()\n",
    "    if N == '#':\n",
    "        break\n",
    "    for i in N:\n",
    "        if i in word_list:\n",
    "            count += 1\n",
    "    print(count)"
   ]
  }
 ],
 "metadata": {
  "kernelspec": {
   "display_name": "Python 3 (ipykernel)",
   "language": "python",
   "name": "python3"
  },
  "language_info": {
   "codemirror_mode": {
    "name": "ipython",
    "version": 3
   },
   "file_extension": ".py",
   "mimetype": "text/x-python",
   "name": "python",
   "nbconvert_exporter": "python",
   "pygments_lexer": "ipython3",
   "version": "3.9.12"
  }
 },
 "nbformat": 4,
 "nbformat_minor": 5
}
