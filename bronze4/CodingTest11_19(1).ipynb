{
 "cells": [
  {
   "cell_type": "markdown",
   "id": "a05bfe44",
   "metadata": {},
   "source": [
    "# [10797번]"
   ]
  },
  {
   "cell_type": "code",
   "execution_count": null,
   "id": "4db4d66f",
   "metadata": {},
   "outputs": [],
   "source": [
    "# 차량 10부제 단속 건수 출력"
   ]
  },
  {
   "cell_type": "code",
   "execution_count": 3,
   "id": "493b5ff2",
   "metadata": {},
   "outputs": [
    {
     "name": "stdout",
     "output_type": "stream",
     "text": [
      "5\n",
      "1 3 0 7 4\n",
      "0\n"
     ]
    }
   ],
   "source": [
    "day = int(input())\n",
    "count = 0\n",
    "\n",
    "c1, c2, c3, c4, c5 = map(int, input().split())\n",
    "arr = [c1, c2, c3, c4, c5]\n",
    "\n",
    "for i in range(5):\n",
    "    if arr[i] == day:\n",
    "        count += 1\n",
    "\n",
    "print(count)"
   ]
  },
  {
   "cell_type": "markdown",
   "id": "37adbb44",
   "metadata": {},
   "source": [
    "# [10808번]"
   ]
  },
  {
   "cell_type": "code",
   "execution_count": null,
   "id": "c83d654a",
   "metadata": {},
   "outputs": [],
   "source": [
    "# 알파벳 갯수가 입력한 문자에서 몇개 있는지 알려주는 코드"
   ]
  },
  {
   "cell_type": "code",
   "execution_count": 12,
   "id": "1c3ec5af",
   "metadata": {},
   "outputs": [
    {
     "name": "stdout",
     "output_type": "stream",
     "text": [
      "baekjoon\n",
      "1 1 0 0 1 0 0 0 0 1 1 0 0 1 2 0 0 0 0 0 0 0 0 0 0 0 "
     ]
    }
   ],
   "source": [
    "sample = ['a', 'b', 'c', 'd', 'e', 'f', 'g', 'h', 'i', 'j', 'k', 'l', 'm', 'n', 'o', 'p', 'q', 'r', 's', 't', 'u', 'v', 'w', 'x', 'y', 'z']\n",
    "n = list(input())\n",
    "\n",
    "for i in range(len(sample)):\n",
    "    y = n.count(sample[i])                   # n에서 sample[i]가 몇개 있는지 count하는 코드\n",
    "    print(y, end = \" \")\n",
    "    \n",
    "    \n",
    "#tmp = [0 for i in range(len(sample))]       # 컴프리헨션 구조 list = [넣을 값 for i in 반복횟수]로 리스트를 채울 수 있음\n",
    "#tmp = [0] * 26 으로도 가능하다\n",
    "#user = list(input())  # list(input())는 철자 하나하나를 구분한다\n",
    "#for i in range(len(user)):                  # 반복문은 큰 다이어그램부터\n",
    "#    for j in range(len(sample)):            # range(len())을 통해 리스트의 길이만큼 반복가능\n",
    "#        if user[i] == sample[j]:\n",
    "#            tmp[j] += 1\n"
   ]
  },
  {
   "cell_type": "markdown",
   "id": "9f677d1a",
   "metadata": {},
   "source": [
    "# [10987번]"
   ]
  },
  {
   "cell_type": "code",
   "execution_count": 13,
   "id": "06284f28",
   "metadata": {},
   "outputs": [],
   "source": [
    "#알파벳 소문자로만 이루어진 단어가 주어진다. \n",
    "#이때, 모음(a, e, i, o, u)의 개수를 출력하는 프로그램을 작성하시오."
   ]
  },
  {
   "cell_type": "code",
   "execution_count": 22,
   "id": "88d6b2f1",
   "metadata": {},
   "outputs": [
    {
     "name": "stdout",
     "output_type": "stream",
     "text": [
      "baekjoon\n",
      "4\n"
     ]
    }
   ],
   "source": [
    "sample = ['a', 'e', 'i', 'o', 'u']\n",
    "n = list(input())\n",
    "count = 0\n",
    "\n",
    "for i in range(len(n)):\n",
    "    if n[i] in sample:\n",
    "        count += 1\n",
    "\n",
    "print(count)"
   ]
  },
  {
   "cell_type": "markdown",
   "id": "c988230e",
   "metadata": {},
   "source": [
    "# [11365번]"
   ]
  },
  {
   "cell_type": "code",
   "execution_count": null,
   "id": "ebff874d",
   "metadata": {},
   "outputs": [],
   "source": [
    "# 문자열을 거꾸로 출력하기"
   ]
  },
  {
   "cell_type": "code",
   "execution_count": 30,
   "id": "0220e3ae",
   "metadata": {},
   "outputs": [
    {
     "name": "stdout",
     "output_type": "stream",
     "text": [
      "!edoc doog a tahW\n",
      "What a good code!\n",
      "noitacitsufbo\n",
      "obfustication\n",
      "lla sees rodroM fo drol eht ,ssertrof sih nihtiw delaecnoC\n",
      "Concealed within his fortress, the lord of Mordor sees all\n",
      "END\\\n",
      "\\DNE\n",
      "END\n"
     ]
    }
   ],
   "source": [
    "while True:\n",
    "    msg = input()\n",
    "    if msg == \"END\":\n",
    "        break\n",
    "    else:\n",
    "        print(msg[::-1])      # 슬라이싱!!! 문자열과 리스트에 사용할 수 있음\n",
    "                              # a[start : end : step ]이다 안 쓰면 처음부터 끝까지임\n",
    "                              # a[ : : -1] = 처음부터 끝까지 -1칸씩 가며 print하기"
   ]
  },
  {
   "cell_type": "markdown",
   "id": "76303c73",
   "metadata": {},
   "source": [
    "# [11720번]"
   ]
  },
  {
   "cell_type": "code",
   "execution_count": 31,
   "id": "0c60aa57",
   "metadata": {},
   "outputs": [],
   "source": [
    "# N개의 숫자가 공백 없이 쓰여있다.\n",
    "# 이 숫자를 모두 합해서 출력하는 프로그램을 작성하시오."
   ]
  },
  {
   "cell_type": "code",
   "execution_count": 38,
   "id": "3e7c3560",
   "metadata": {},
   "outputs": [
    {
     "name": "stdout",
     "output_type": "stream",
     "text": [
      "11\n",
      "10987654321\n",
      "46\n"
     ]
    }
   ],
   "source": [
    "N = int(input())\n",
    "tmp = 0\n",
    "\n",
    "user = list(input())\n",
    "\n",
    "for i in range(N):\n",
    "    tmp += int(user[i])            # 리스트를 한꺼번에 int로 바꿀라고 하지말고\n",
    "                                   # 한번에 한개의 인덱스만 변환해서 더하자\n",
    "print(tmp)"
   ]
  },
  {
   "cell_type": "markdown",
   "id": "6e804fb0",
   "metadata": {},
   "source": [
    "# [11943번]"
   ]
  },
  {
   "cell_type": "code",
   "execution_count": 44,
   "id": "3d404c82",
   "metadata": {},
   "outputs": [],
   "source": [
    "# 바구니 과일 옮기는 최소횟구 구하기"
   ]
  },
  {
   "cell_type": "code",
   "execution_count": 43,
   "id": "6ff7b63e",
   "metadata": {},
   "outputs": [
    {
     "name": "stdout",
     "output_type": "stream",
     "text": [
      "9 4\n",
      "3 6\n",
      "7\n"
     ]
    }
   ],
   "source": [
    "A_app, A_org = map(int, input().split())\n",
    "B_app, B_org = map(int, input().split())\n",
    "m = 0\n",
    "\n",
    "if A_app + B_org >= A_org + B_app:    # 왼쪽에 A에 사과 옮김 + B 오렌지 옮김이니까\n",
    "    m =  A_org + B_app                # 교차로 더한 값이 더 작은 수가 최소값이다\n",
    "else:\n",
    "    m =  A_app + B_org\n",
    "    \n",
    "print(m)\n"
   ]
  }
 ],
 "metadata": {
  "kernelspec": {
   "display_name": "Python 3 (ipykernel)",
   "language": "python",
   "name": "python3"
  },
  "language_info": {
   "codemirror_mode": {
    "name": "ipython",
    "version": 3
   },
   "file_extension": ".py",
   "mimetype": "text/x-python",
   "name": "python",
   "nbconvert_exporter": "python",
   "pygments_lexer": "ipython3",
   "version": "3.9.12"
  }
 },
 "nbformat": 4,
 "nbformat_minor": 5
}
