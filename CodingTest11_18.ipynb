{
 "cells": [
  {
   "cell_type": "markdown",
   "id": "e3180457",
   "metadata": {},
   "source": [
    "# [5524번]"
   ]
  },
  {
   "cell_type": "code",
   "execution_count": 6,
   "id": "d556f722",
   "metadata": {},
   "outputs": [],
   "source": [
    "# 대문자를 소문자로 바꾸는 코드"
   ]
  },
  {
   "cell_type": "code",
   "execution_count": 5,
   "id": "73cb9052",
   "metadata": {},
   "outputs": [
    {
     "name": "stdout",
     "output_type": "stream",
     "text": [
      "3\n",
      "WatanabE\n",
      "watanabe\n",
      "ITO\n",
      "ito\n",
      "YamaMoto\n",
      "yamamoto\n"
     ]
    }
   ],
   "source": [
    "N = int(input())\n",
    "\n",
    "for i in range(N):\n",
    "    name = input()\n",
    "    print(name.lower())"
   ]
  },
  {
   "cell_type": "markdown",
   "id": "a52ca7ef",
   "metadata": {},
   "source": [
    "# [5532번]"
   ]
  },
  {
   "cell_type": "code",
   "execution_count": 7,
   "id": "06942f25",
   "metadata": {},
   "outputs": [],
   "source": [
    "# 방학기간 = L\n",
    "# 수학 숙제 쪽수 = B\n",
    "# 국어 수게 쪽수 = A\n",
    "# 상근이의 국어 능력 = C\n",
    "# 상근이의 수학 능력 = D\n",
    "\n",
    "# 한 줄에 하나씩 총 다섯 줄에 걸쳐 L, A, B, C, D가 주어진다.\n",
    "# 상근이가 최대로 놀 수 있는 날을 출력하라"
   ]
  },
  {
   "cell_type": "code",
   "execution_count": 18,
   "id": "ee4b1d91",
   "metadata": {},
   "outputs": [
    {
     "name": "stdout",
     "output_type": "stream",
     "text": [
      "20\n",
      "25\n",
      "30\n",
      "6\n",
      "8\n",
      "15\n"
     ]
    }
   ],
   "source": [
    "L = int(input())  # 방학숙제 기간\n",
    "A = int(input())  # 국어 숙제 쪽수\n",
    "B = int(input())  # 수학 숙제 쪽수\n",
    "C = int(input())  # 상근이 하루 국어 풀 수 있는 쪽수\n",
    "D = int(input())  # 상근이 하루 수학 풀 수 있는 쪽수\n",
    "\n",
    "# 각각 필요한 일수 계산 (올림 계산)\n",
    "days_for_korean = (A + C - 1) // C\n",
    "days_for_math = (B + D - 1) // D\n",
    "\n",
    "# 숙제를 완료하는 데 걸리는 최대 일수\n",
    "max_days = max(days_for_korean, days_for_math)\n",
    "\n",
    "# 방학 중 자유 시간 계산\n",
    "free_days = L - max_days\n",
    "\n",
    "print(free_days)\n",
    "\n",
    "\n",
    "\n",
    "# A / B = 에서 올림 결과를 얻고 싶다면\n",
    "# (A + B - 1) // B 의 트릭을 사용해보자\n",
    "# -1이 있는 이유는 딱 떨어지는 수를 만났을 때 제 값보다 높게 나옴을 방지하는 용도"
   ]
  },
  {
   "cell_type": "markdown",
   "id": "a92a0f7c",
   "metadata": {},
   "source": [
    "# [5543번]"
   ]
  },
  {
   "cell_type": "code",
   "execution_count": 22,
   "id": "230164e4",
   "metadata": {},
   "outputs": [],
   "source": [
    "# 버거3개와 음료2개중 가장 싼 버거세트를 구하시오"
   ]
  },
  {
   "cell_type": "code",
   "execution_count": 21,
   "id": "2affc294",
   "metadata": {},
   "outputs": [
    {
     "name": "stdout",
     "output_type": "stream",
     "text": [
      "800\n",
      "700\n",
      "900\n",
      "198\n",
      "330\n",
      "848\n"
     ]
    }
   ],
   "source": [
    "s_bur = int(input()) \n",
    "m_bur = int(input())\n",
    "u_bur = int(input())\n",
    "coca = int(input())\n",
    "sprite = int(input())\n",
    "\n",
    "bur_list = [s_bur, m_bur, u_bur]\n",
    "juice_list = [coca, sprite]\n",
    "\n",
    "cheap_bur = min(bur_list)\n",
    "cheap_juice = min(juice_list)\n",
    "\n",
    "cheap_set = (cheap_bur + cheap_juice) - 50\n",
    "print(cheap_set)\n",
    "\n",
    "\n",
    "# 리스트에서 최소값을 찾을 때에는 min(리스트이름)을 사용한다"
   ]
  },
  {
   "cell_type": "markdown",
   "id": "d3b373dd",
   "metadata": {},
   "source": [
    "# [5554번]"
   ]
  },
  {
   "cell_type": "code",
   "execution_count": 28,
   "id": "89708632",
   "metadata": {},
   "outputs": [],
   "source": [
    "# 초를 분 초로 바꾸는 코드"
   ]
  },
  {
   "cell_type": "code",
   "execution_count": 27,
   "id": "71e92d89",
   "metadata": {},
   "outputs": [
    {
     "name": "stdout",
     "output_type": "stream",
     "text": [
      "31\n",
      "34\n",
      "7\n",
      "151\n",
      "3\n",
      "43\n"
     ]
    }
   ],
   "source": [
    "time1 = int(input())\n",
    "time2 = int(input())\n",
    "time3 = int(input())\n",
    "time4 = int(input())\n",
    "minute = 0\n",
    "\n",
    "second = time1 + time2 + time3 + time4\n",
    "while True:\n",
    "    if second < 60:\n",
    "        print(minute)\n",
    "        print(second)\n",
    "        break\n",
    "    if second >= 60:\n",
    "        minute += 1\n",
    "        second -= 60"
   ]
  },
  {
   "cell_type": "markdown",
   "id": "87c5506e",
   "metadata": {},
   "source": [
    "# [5575번]"
   ]
  },
  {
   "cell_type": "code",
   "execution_count": null,
   "id": "5cfdc43b",
   "metadata": {},
   "outputs": [],
   "source": [
    "#첫 번째 줄에 A 씨의 근무 시간,\n",
    "\n",
    "#두 번째 줄에 B 씨의 근무 시간,\n",
    "\n",
    "#세 번째 줄에 C 씨의 근무 시간을 출력하라.\n",
    "\n",
    "# 시간이 h 시간 m 분 s 초이면 h, m, s의 순으로 공백으로 분리하여 출력하라."
   ]
  },
  {
   "cell_type": "code",
   "execution_count": 34,
   "id": "0d14abd6",
   "metadata": {},
   "outputs": [
    {
     "name": "stdout",
     "output_type": "stream",
     "text": [
      "9 0 0 18 0 0\n",
      "9 0 1 18 0 0\n",
      "12 14 52 12 15 30\n",
      "9 0 0\n",
      "8 59 59\n",
      "0 0 38\n"
     ]
    }
   ],
   "source": [
    "A_hour, A_minute, A_second, A_hour2, A_minute2, A_second2  = map(int, input().split())\n",
    "B_hour, B_minute, B_second, B_hour2, B_minute2, B_second2 = map(int, input().split())\n",
    "C_hour, C_minute, C_second, C_hour2, C_minute2, C_second2 = map(int, input().split())\n",
    "\n",
    "if A_second2 - A_second == 0:\n",
    "    total_second = 0\n",
    "elif A_second2 - A_second > 0:\n",
    "    total_second = A_second2 - A_second\n",
    "elif A_second2 - A_second < 0:\n",
    "    if A_minute2 > 0:\n",
    "        A_minute2 -= 1\n",
    "        A_seconde2 += 60\n",
    "        total_second = A_second2 - A_second\n",
    "    elif A_minute2 <= 0:\n",
    "        A_hour2 -= 1\n",
    "        A_minute2 += 59\n",
    "        A_second2 += 60\n",
    "        total_second = A_second2 - A_second\n",
    "\n",
    "if A_minute2 - A_minute == 0:\n",
    "    total_minute = 0\n",
    "elif A_minute2 - A_minute > 0:\n",
    "    total_minute = A_minute2 - A_minute\n",
    "elif A_minute2 - A_minute < 0:\n",
    "    A_hour2 -= 1\n",
    "    A_minute2 += 60\n",
    "    total_minute = A_minute2 - A_minuteif\n",
    "\n",
    "if A_hour2 - A_hour == 0:\n",
    "    total_hour = 0\n",
    "elif A_hour2 - A_hour > 0:\n",
    "    total_hour = A_hour2 - A_hour\n",
    "    \n",
    "print(total_hour, total_minute, total_second, sep = \" \") \n",
    "\n",
    "\n",
    "\n",
    "\n",
    "if B_second2 - B_second == 0:\n",
    "    total_second = 0\n",
    "elif B_second2 - B_second > 0:\n",
    "    total_second = B_second2 - B_second\n",
    "elif B_second2 - B_second < 0:\n",
    "    if B_minute2 > 0:\n",
    "        B_minute2 -= 1\n",
    "        B_seconde2 += 60\n",
    "        total_second = B_second2 - B_second\n",
    "    elif B_minute2 <= 0:\n",
    "        B_hour2 -= 1\n",
    "        B_minute2 += 59\n",
    "        B_second2 += 60\n",
    "        total_second = B_second2 - B_second\n",
    "\n",
    "if B_minute2 - B_minute == 0:\n",
    "    total_minute = 0\n",
    "elif B_minute2 - B_minute > 0:\n",
    "    total_minute = B_minute2 - B_minute\n",
    "elif B_minute2 - B_minute < 0:\n",
    "    B_hour2 -= 1\n",
    "    B_minute2 += 60\n",
    "    total_minute = B_minute2 - B_minuteif\n",
    "\n",
    "if B_hour2 - B_hour == 0:\n",
    "    total_hour = 0\n",
    "elif B_hour2 - B_hour > 0:\n",
    "    total_hour = B_hour2 - B_hour\n",
    "    \n",
    "print(total_hour, total_minute, total_second, sep = \" \") \n",
    "\n",
    "\n",
    "\n",
    "\n",
    "\n",
    "if C_second2 - C_second == 0:\n",
    "    total_second = 0\n",
    "elif C_second2 - C_second > 0:\n",
    "    total_second = C_second2 - C_second\n",
    "elif C_second2 - C_second < 0:\n",
    "    if C_minute2 > 0:\n",
    "        C_minute2 -= 1\n",
    "        C_second2 += 60\n",
    "        total_second = C_second2 - C_second\n",
    "    elif C_minute2 <= 0:\n",
    "        C_hour2 -= 1\n",
    "        C_minute2 += 59\n",
    "        C_second2 += 60\n",
    "        total_second = C_second2 - C_second\n",
    "\n",
    "if C_minute2 - C_minute == 0:\n",
    "    total_minute = 0\n",
    "elif C_minute2 - C_minute > 0:\n",
    "    total_minute = C_minute2 - C_minute\n",
    "elif C_minute2 - C_minute < 0:\n",
    "    C_hour2 -= 1\n",
    "    C_minute2 += 60\n",
    "    total_minute = C_minute2 - C_minuteif\n",
    "\n",
    "if C_hour2 - C_hour == 0:\n",
    "    total_hour = 0\n",
    "elif C_hour2 - C_hour > 0:\n",
    "    total_hour = C_hour2 - C_hour\n",
    "    \n",
    "print(total_hour, total_minute, total_second, sep = \" \") \n",
    "        \n",
    "    \n",
    "    "
   ]
  },
  {
   "cell_type": "markdown",
   "id": "621528d9",
   "metadata": {},
   "source": [
    "# 동작하지만 코드가 너무 길고, 가독성이 없음 어떻게 해결할까? "
   ]
  },
  {
   "cell_type": "code",
   "execution_count": null,
   "id": "2ed50dd8",
   "metadata": {},
   "outputs": [],
   "source": [
    "for _ in range(3):\n",
    "    h1, m1, s1, h2, m2, s2 = map(int, input().split()) #변수 이름 길이를 줄였음\n",
    "    t1 = h1*60*60 + m1*60 + s1                        # 출근시간 전체를 초로 변환\n",
    "    t2 = h2*60*60 + m2*60 + s2                        # 퇴근시간 전체를 초로 변환\n",
    "    t = t2 - t1                                       # 차이계산\n",
    "    h = t//60//60  # 시간은 차이시간을 60으로 나눈 것의 정수 몫(분)의 60으로 나눈 것의 정수 몫 = 시간\n",
    "    m = t//60 % 60     #\n",
    "    s = t%60\n",
    "    print(h, m, s)"
   ]
  }
 ],
 "metadata": {
  "kernelspec": {
   "display_name": "Python 3 (ipykernel)",
   "language": "python",
   "name": "python3"
  },
  "language_info": {
   "codemirror_mode": {
    "name": "ipython",
    "version": 3
   },
   "file_extension": ".py",
   "mimetype": "text/x-python",
   "name": "python",
   "nbconvert_exporter": "python",
   "pygments_lexer": "ipython3",
   "version": "3.9.12"
  }
 },
 "nbformat": 4,
 "nbformat_minor": 5
}
