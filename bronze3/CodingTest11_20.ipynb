{
 "cells": [
  {
   "cell_type": "markdown",
   "id": "d512aeaa",
   "metadata": {},
   "source": [
    "# [1085번]"
   ]
  },
  {
   "cell_type": "code",
   "execution_count": 33,
   "id": "9d6a2276",
   "metadata": {},
   "outputs": [],
   "source": [
    "# 한수는 지금 (x, y)에 있다. 직사각형은 각 변이 좌표축에 평행하고,\n",
    "# 왼쪽 아래 꼭짓점은 (0, 0), 오른쪽 위 꼭짓점은 (w, h)에 있다. \n",
    "# 직사각형의 경계선까지 가는 거리의 최솟값을 구하는 프로그램을 작성하시오."
   ]
  },
  {
   "cell_type": "code",
   "execution_count": 39,
   "id": "f3b33402",
   "metadata": {},
   "outputs": [
    {
     "name": "stdout",
     "output_type": "stream",
     "text": [
      "6 2 10 3\n",
      "1\n"
     ]
    }
   ],
   "source": [
    "x, y, w, h = map(int, input().split())\n",
    "\n",
    "# 각 경계선까지의 거리 계산\n",
    "left = x\n",
    "right = w - x\n",
    "bottom = y\n",
    "top = h - y\n",
    "\n",
    "# 최소 거리 출력\n",
    "print(min(left, right, bottom, top))\n",
    "\n"
   ]
  },
  {
   "cell_type": "markdown",
   "id": "b8deff67",
   "metadata": {},
   "source": [
    "# [1247번]  "
   ]
  },
  {
   "cell_type": "code",
   "execution_count": null,
   "id": "55b309d2",
   "metadata": {},
   "outputs": [],
   "source": [
    "#총 3개의 줄에 걸쳐 각 테스트 셋에 대해 N개의 정수들의 합 S의 부호를 출력한다.\n",
    "#S=0이면 \"0\"을, S>0이면 \"+\"를, S<0이면 \"-\"를 출력하면 된다."
   ]
  },
  {
   "cell_type": "code",
   "execution_count": 52,
   "id": "6ff7cc30",
   "metadata": {},
   "outputs": [
    {
     "name": "stdout",
     "output_type": "stream",
     "text": [
      "1\n",
      "0\n",
      "0\n",
      "1\n",
      "1\n",
      "+\n",
      "1\n",
      "-1\n",
      "-\n"
     ]
    }
   ],
   "source": [
    "for j in range(3):\n",
    "    N = int(input())\n",
    "    total = 0\n",
    "    for i in range(N):\n",
    "        s = int(input())        # s_list = s_list.append(s) 라고 했다가 none반환으로 에러\n",
    "        total += s              # 굳이 리스트로 안 만들어도 되는 경우가 있다\n",
    "    if total == 0:\n",
    "        print(\"0\")\n",
    "    elif total < 0:\n",
    "        print(\"-\")\n",
    "    elif total > 0:\n",
    "        print(\"+\")"
   ]
  }
 ],
 "metadata": {
  "kernelspec": {
   "display_name": "Python 3 (ipykernel)",
   "language": "python",
   "name": "python3"
  },
  "language_info": {
   "codemirror_mode": {
    "name": "ipython",
    "version": 3
   },
   "file_extension": ".py",
   "mimetype": "text/x-python",
   "name": "python",
   "nbconvert_exporter": "python",
   "pygments_lexer": "ipython3",
   "version": "3.9.12"
  }
 },
 "nbformat": 4,
 "nbformat_minor": 5
}
