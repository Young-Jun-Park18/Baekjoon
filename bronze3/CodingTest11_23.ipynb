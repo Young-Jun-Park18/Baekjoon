{
 "cells": [
  {
   "cell_type": "markdown",
   "id": "941bcdbb-87da-4a05-a45a-eaf0be3865dc",
   "metadata": {},
   "source": [
    "# [1598번] "
   ]
  },
  {
   "cell_type": "code",
   "execution_count": 41,
   "id": "593e9847-4c9a-461f-8a43-c5594572b232",
   "metadata": {},
   "outputs": [],
   "source": [
    "# 2차원 배열에서 위치 차이를 구하는 프로그램입니다"
   ]
  },
  {
   "cell_type": "code",
   "execution_count": 36,
   "id": "674440b4-6530-4b62-94f8-8e65fafaa5bc",
   "metadata": {},
   "outputs": [
    {
     "name": "stdout",
     "output_type": "stream",
     "text": [
      "[[ 1  5  9 13 17 21 25 29 33 37]\n",
      " [ 2  6 10 14 18 22 26 30 34 38]\n",
      " [ 3  7 11 15 19 23 27 31 35 39]\n",
      " [ 4  8 12 16 20 24 28 32 36 40]]\n"
     ]
    },
    {
     "name": "stdin",
     "output_type": "stream",
     "text": [
      " 11 33\n"
     ]
    },
    {
     "name": "stdout",
     "output_type": "stream",
     "text": [
      "8\n"
     ]
    }
   ],
   "source": [
    "import numpy as np\n",
    "import math\n",
    "\n",
    "grid = []\n",
    "count = 1\n",
    "\n",
    "for i in range(4):\n",
    "    grid.append([0] * 10)\n",
    "    \n",
    "for i in range(10):\n",
    "    for j in range(4):\n",
    "        grid[j][i] = count\n",
    "        count += 1\n",
    "\n",
    "arr = np.array(grid)\n",
    "print(arr)\n",
    "\n",
    "start, stop = map(int, input().split())\n",
    "\n",
    "start_row = (start-1) % 4          # 나머지가 몇번째 행에 있는지  \n",
    "start_col = (start-1) // 4         # 몫이 몇번째 열에 있는지\n",
    "stop_row = (stop-1) % 4\n",
    "stop_col = (stop-1) // 4\n",
    "\n",
    "#start_abs = abs(start_row) - abs(stop_row)  절대값 계산은 괄호 안에서 한번에 하는거임\n",
    "#stop_abs = abs(start_col) - abs(stop_col)\n",
    "\n",
    "start_abs = abs(start_row - stop_row)\n",
    "stop_abs = abs(start_col - stop_col)\n",
    "\n",
    "distance = start_abs + stop_abs\n",
    "print(distance)"
   ]
  },
  {
   "cell_type": "code",
   "execution_count": 38,
   "id": "95b611f0-4ec6-408e-8447-d487449d5a0f",
   "metadata": {},
   "outputs": [
    {
     "name": "stdin",
     "output_type": "stream",
     "text": [
      " 11 33\n"
     ]
    },
    {
     "name": "stdout",
     "output_type": "stream",
     "text": [
      "8\n"
     ]
    }
   ],
   "source": [
    "import math\n",
    "\n",
    "# 사용자 입력\n",
    "start, stop = map(int, input().split())\n",
    "\n",
    "# 좌표 계산\n",
    "start_row = (start - 1) // 4  # 몫이 행 번호\n",
    "start_col = (start - 1) % 4  # 나머지가 열 번호\n",
    "stop_row = (stop - 1) // 4\n",
    "stop_col = (stop - 1) % 4\n",
    "\n",
    "# 거리 계산\n",
    "distance = abs(start_row - stop_row) + abs(start_col - stop_col)\n",
    "print(distance)\n"
   ]
  },
  {
   "cell_type": "markdown",
   "id": "8d285c85-594d-4c10-8242-353d243a8714",
   "metadata": {},
   "source": [
    "## 백준에 예시 이미지를 출력하지 않아도 됨 코드가 짧아짐"
   ]
  },
  {
   "cell_type": "code",
   "execution_count": null,
   "id": "1b984c25-9132-49f2-b1ee-f614e185544b",
   "metadata": {},
   "outputs": [],
   "source": []
  }
 ],
 "metadata": {
  "kernelspec": {
   "display_name": "Python 3 (ipykernel)",
   "language": "python",
   "name": "python3"
  },
  "language_info": {
   "codemirror_mode": {
    "name": "ipython",
    "version": 3
   },
   "file_extension": ".py",
   "mimetype": "text/x-python",
   "name": "python",
   "nbconvert_exporter": "python",
   "pygments_lexer": "ipython3",
   "version": "3.12.4"
  }
 },
 "nbformat": 4,
 "nbformat_minor": 5
}
