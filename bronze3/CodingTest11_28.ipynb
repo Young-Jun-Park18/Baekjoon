{
 "cells": [
  {
   "cell_type": "markdown",
   "id": "288a4922-25c0-4fb2-a27c-22ba85247d5b",
   "metadata": {},
   "source": [
    "# [2441번]"
   ]
  },
  {
   "cell_type": "code",
   "execution_count": 64,
   "id": "1dbe0b9a-5673-4576-bd34-a716e721f74b",
   "metadata": {},
   "outputs": [],
   "source": [
    "# 오른쪽 정렬로 내림차순 점찍기"
   ]
  },
  {
   "cell_type": "code",
   "execution_count": 61,
   "id": "aed3c124-d0e3-43b3-989a-bef8172e6967",
   "metadata": {
    "scrolled": true
   },
   "outputs": [
    {
     "name": "stdin",
     "output_type": "stream",
     "text": [
      " 10\n"
     ]
    },
    {
     "name": "stdout",
     "output_type": "stream",
     "text": [
      "**********\n",
      " *********\n",
      "  ********\n",
      "   *******\n",
      "    ******\n",
      "     *****\n",
      "      ****\n",
      "       ***\n",
      "        **\n",
      "         *\n",
      "          "
     ]
    }
   ],
   "source": [
    "N = int(input())\n",
    "\n",
    "for i in range(N, 0, -1):\n",
    "    print(\"*\" * i)\n",
    "    print(\" \" * (N-i), end = \" \")"
   ]
  },
  {
   "cell_type": "markdown",
   "id": "74cea9d2-6c79-4818-8e21-db60c96fe621",
   "metadata": {},
   "source": [
    "# [2442번] "
   ]
  },
  {
   "cell_type": "code",
   "execution_count": 110,
   "id": "ad6800bb-7cb7-4732-b468-d81eb34173f6",
   "metadata": {},
   "outputs": [],
   "source": [
    "# 피라미드 별찍기"
   ]
  },
  {
   "cell_type": "code",
   "execution_count": 114,
   "id": "dc3dc36a-595f-47e9-9a14-40a6990c0e58",
   "metadata": {},
   "outputs": [
    {
     "name": "stdin",
     "output_type": "stream",
     "text": [
      " 10\n"
     ]
    },
    {
     "name": "stdout",
     "output_type": "stream",
     "text": [
      "         *\n",
      "        ***\n",
      "       *****\n",
      "      *******\n",
      "     *********\n",
      "    ***********\n",
      "   *************\n",
      "  ***************\n",
      " *****************\n",
      "*******************\n"
     ]
    }
   ],
   "source": [
    "N = int(input())\n",
    "\n",
    "for i in range(1, N+1, 1):\n",
    "    print((\" \" * (N-i)), end = \"\")\n",
    "    print(\"*\" * ((2*i)-1))\n"
   ]
  },
  {
   "cell_type": "markdown",
   "id": "4205c6bf-3a6d-4e0b-a96a-0870bf3259ad",
   "metadata": {},
   "source": [
    "# [2443번]"
   ]
  },
  {
   "cell_type": "code",
   "execution_count": 118,
   "id": "48a04a14-480e-4b34-a9da-0a7471f8ddd7",
   "metadata": {},
   "outputs": [],
   "source": [
    "# 역피라미드 별찍기"
   ]
  },
  {
   "cell_type": "code",
   "execution_count": 126,
   "id": "b1a1766b-6e1c-4856-838a-6c688c006663",
   "metadata": {},
   "outputs": [
    {
     "name": "stdin",
     "output_type": "stream",
     "text": [
      " 10\n"
     ]
    },
    {
     "name": "stdout",
     "output_type": "stream",
     "text": [
      "*******************\n",
      " *****************\n",
      "  ***************\n",
      "   *************\n",
      "    ***********\n",
      "     *********\n",
      "      *******\n",
      "       *****\n",
      "        ***\n",
      "         *\n"
     ]
    }
   ],
   "source": [
    "N = int(input())\n",
    "\n",
    "for i in range(N, 0, -1):\n",
    "    print(\" \" * (N-i), end=\"\")\n",
    "    print(\"*\" * ((2*i)-1))"
   ]
  },
  {
   "cell_type": "markdown",
   "id": "54a4096d-e140-48aa-a533-f277891b8eee",
   "metadata": {},
   "source": [
    "# [2444번]"
   ]
  },
  {
   "cell_type": "code",
   "execution_count": 135,
   "id": "84135dc6-5927-49ad-928c-029e52258a15",
   "metadata": {},
   "outputs": [],
   "source": [
    "# 다이아몬드 모양 별찍기"
   ]
  },
  {
   "cell_type": "code",
   "execution_count": 132,
   "id": "b2e7b24a-d578-41d3-b16a-4f5046740303",
   "metadata": {},
   "outputs": [
    {
     "name": "stdin",
     "output_type": "stream",
     "text": [
      " 10\n"
     ]
    },
    {
     "name": "stdout",
     "output_type": "stream",
     "text": [
      "         *\n",
      "        ***\n",
      "       *****\n",
      "      *******\n",
      "     *********\n",
      "    ***********\n",
      "   *************\n",
      "  ***************\n",
      " *****************\n",
      "*******************\n",
      " *****************\n",
      "  ***************\n",
      "   *************\n",
      "    ***********\n",
      "     *********\n",
      "      *******\n",
      "       *****\n",
      "        ***\n",
      "         *\n"
     ]
    }
   ],
   "source": [
    "N = int(input())\n",
    "\n",
    "for i in range(1, N+1, 1):\n",
    "    print((\" \" * (N-i)), end = \"\")\n",
    "    print(\"*\" * ((2*i)-1))\n",
    "\n",
    "for i in range(N-1, 0, -1):\n",
    "    print(\" \" * (N-i), end=\"\")\n",
    "    print(\"*\" * ((2*i)-1))"
   ]
  },
  {
   "cell_type": "code",
   "execution_count": null,
   "id": "b659ed51-3d2b-4b14-a848-1a40025c7dfd",
   "metadata": {},
   "outputs": [],
   "source": []
  }
 ],
 "metadata": {
  "kernelspec": {
   "display_name": "Python 3 (ipykernel)",
   "language": "python",
   "name": "python3"
  },
  "language_info": {
   "codemirror_mode": {
    "name": "ipython",
    "version": 3
   },
   "file_extension": ".py",
   "mimetype": "text/x-python",
   "name": "python",
   "nbconvert_exporter": "python",
   "pygments_lexer": "ipython3",
   "version": "3.12.4"
  }
 },
 "nbformat": 4,
 "nbformat_minor": 5
}
