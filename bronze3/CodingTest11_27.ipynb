{
 "cells": [
  {
   "cell_type": "markdown",
   "id": "050b5926-a0db-451a-95e0-530ab569c56c",
   "metadata": {},
   "source": [
    "# [1837번]"
   ]
  },
  {
   "cell_type": "code",
   "execution_count": null,
   "id": "ec9f8c7e-e16b-453d-9524-0ad4a12edc70",
   "metadata": {},
   "outputs": [],
   "source": [
    "# 소수의 곱으로 이루어진 수가 괜찮은 암호인지 판독하는 코드"
   ]
  },
  {
   "cell_type": "code",
   "execution_count": 39,
   "id": "9672f88d-79f3-4d1f-b4e8-5693128dd4a0",
   "metadata": {},
   "outputs": [
    {
     "name": "stdin",
     "output_type": "stream",
     "text": [
      " 77 12\n"
     ]
    },
    {
     "name": "stdout",
     "output_type": "stream",
     "text": [
      "BAD 7\n"
     ]
    }
   ],
   "source": [
    "P, K = map(int, input().split())\n",
    "\n",
    "for i in range(2, K):\n",
    "    if P % i == 0:\n",
    "        print(\"BAD\", i)\n",
    "        break\n",
    "else:\n",
    "    print(\"GOOD\")"
   ]
  },
  {
   "cell_type": "markdown",
   "id": "2a9d86bc-48b8-4466-9f16-b154a455adb0",
   "metadata": {},
   "source": [
    "## 아래는 내가 구현한 코드 -> 모든 소수를 다 리스트에 넣을 수 없기 때문에 틀린 코드임"
   ]
  },
  {
   "cell_type": "code",
   "execution_count": 33,
   "id": "81fea249-ac59-462b-aadd-0662b423af49",
   "metadata": {},
   "outputs": [
    {
     "name": "stdin",
     "output_type": "stream",
     "text": [
      " 143 10\n"
     ]
    },
    {
     "name": "stdout",
     "output_type": "stream",
     "text": [
      "GOOD\n"
     ]
    }
   ],
   "source": [
    "secret, k = map(int, input().split()) # 두 수의 곱과, 적어도 이 숫자는 넘겨야하는 k\n",
    "\n",
    "prime = [2, 3, 5, 7, 11, 13, 17, 19, 23, 29, 31, 37]    #12개의 소수\n",
    "\n",
    "for i in range(len(prime)-1):    # 0 ~ 11번 index까지\n",
    "    for j in range(i+1, len(prime), 1): \n",
    "        if prime[i] * prime[j] == secret:\n",
    "            if prime[i] >= k and prime[j] >= k:\n",
    "                print(\"GOOD\")\n",
    "            elif prime[i] < k:\n",
    "                print(\"BAD\", prime[i], sep = \" \")\n",
    "            elif prime[j] < k:\n",
    "                print(\"BAD\", prime[j], sep = \" \")"
   ]
  },
  {
   "cell_type": "markdown",
   "id": "b7a2c0ab-adb9-4890-9266-4d9dbd8817a4",
   "metadata": {},
   "source": [
    "# [2010번]"
   ]
  },
  {
   "cell_type": "code",
   "execution_count": 61,
   "id": "3789c157-6160-416c-8385-994ba49d5a78",
   "metadata": {},
   "outputs": [],
   "source": [
    "# 플러그에 컴퓨터를 몇개 연결할 수 있는지"
   ]
  },
  {
   "cell_type": "code",
   "execution_count": 47,
   "id": "ce7a2c78-5bc1-48b0-b9eb-d800a9c686cd",
   "metadata": {},
   "outputs": [
    {
     "name": "stdin",
     "output_type": "stream",
     "text": [
      " 3\n",
      " 1\n",
      " 1\n",
      " 1\n"
     ]
    },
    {
     "name": "stdout",
     "output_type": "stream",
     "text": [
      "1\n"
     ]
    }
   ],
   "source": [
    "power_strip = int(input())\n",
    "count = 0\n",
    "\n",
    "for i in range(power_strip):\n",
    "    plug = int(input())\n",
    "    count += (plug-1)\n",
    "\n",
    "count += 1\n",
    "print(count)\n",
    "    "
   ]
  },
  {
   "cell_type": "markdown",
   "id": "eecf9179-4c6a-44eb-891b-d168ad692633",
   "metadata": {},
   "source": [
    "## 반복문에서 int(input())은 오래걸리므로 sys.stdin.readline()을 사용한다 input()과 동일하다"
   ]
  },
  {
   "cell_type": "code",
   "execution_count": null,
   "id": "74841408-15e7-4fc7-a710-2a51912f9343",
   "metadata": {},
   "outputs": [],
   "source": [
    "import sys\n",
    "\n",
    "power_strip = int(sys.stdin.readline())\n",
    "count = 0\n",
    "\n",
    "for i in range(power_strip):\n",
    "    plug = int(sys.stdin.readline())\n",
    "    count += (plug-1)\n",
    "\n",
    "count += 1\n",
    "print(count)"
   ]
  },
  {
   "cell_type": "markdown",
   "id": "1529623d-f647-46ea-9e1f-0f1b13f1e9ea",
   "metadata": {},
   "source": [
    "# [2061번] "
   ]
  },
  {
   "cell_type": "code",
   "execution_count": 15,
   "id": "9df17d87-93a7-4284-a5fb-bb1a25fcee23",
   "metadata": {},
   "outputs": [],
   "source": [
    "# 두 소수의 곱 K와 L이 주어졌을 때 두 소수가 항상 L보다 높은지 판별하는 코드"
   ]
  },
  {
   "cell_type": "code",
   "execution_count": 11,
   "id": "a2081237-e6a3-412c-bf87-bdfe57049463",
   "metadata": {},
   "outputs": [
    {
     "name": "stdin",
     "output_type": "stream",
     "text": [
      " 143 12\n"
     ]
    },
    {
     "name": "stdout",
     "output_type": "stream",
     "text": [
      "BAD 11\n"
     ]
    }
   ],
   "source": [
    "k, l = map(int, input().split()) # k = 두 소수의 값, l = 인수분해된 k가 l이상의 값을 가지는지\n",
    "\n",
    "# bad 조건을 명시하고 나머지 else는 good으로 표기하자\n",
    "\n",
    "for i in range(2, l):  # 2부터 \n",
    "    if k % i == 0:\n",
    "        print(\"BAD\", i)\n",
    "        break\n",
    "else:\n",
    "    print(\"GOOD\")\n",
    "        "
   ]
  },
  {
   "cell_type": "markdown",
   "id": "f60ac80a-6098-4a6e-84a5-8d86d451ea7d",
   "metadata": {},
   "source": [
    "## 왜 i로 나눈 나머지가 0이면 BAD인걸까?"
   ]
  },
  {
   "cell_type": "code",
   "execution_count": null,
   "id": "005f1a6e-c232-46fd-a66f-de5e2d2c91b8",
   "metadata": {},
   "outputs": [],
   "source": [
    "# 만약 소수 2개가 7과 11이라 K = 77이고, L이 8이라면?\n",
    "# for i in range(2, 8):\n",
    "#    if 77 % i == 0:\n",
    "#        print(\"BAD\", i)\n",
    "#        break\n",
    "# else:\n",
    "# print(\"GOOD\")\n",
    "\n",
    "# 처음, i = 2이다  77을 2로 나눈 나머지는 1이기 때문에 good이 출력된다\n",
    "# i = 7 일때, 77을 7로 나눈 나머지는 0이다. 몫은 11이다. 그렇다면 이 수는 7 * 11로 이루어진 소수인것이다\n",
    "# 그러므로 l = 8 이상으로 이루어지지 않았기에 BAD가 나온다"
   ]
  }
 ],
 "metadata": {
  "kernelspec": {
   "display_name": "Python 3 (ipykernel)",
   "language": "python",
   "name": "python3"
  },
  "language_info": {
   "codemirror_mode": {
    "name": "ipython",
    "version": 3
   },
   "file_extension": ".py",
   "mimetype": "text/x-python",
   "name": "python",
   "nbconvert_exporter": "python",
   "pygments_lexer": "ipython3",
   "version": "3.12.4"
  }
 },
 "nbformat": 4,
 "nbformat_minor": 5
}
