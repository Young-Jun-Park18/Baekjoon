{
 "cells": [
  {
   "cell_type": "markdown",
   "id": "7ed79cbb-3666-4512-abc9-b659c5d8dcc1",
   "metadata": {},
   "source": [
    "# [1267번]"
   ]
  },
  {
   "cell_type": "code",
   "execution_count": null,
   "id": "d58ccb76-47c1-40f7-95ec-6b45c3aad0c8",
   "metadata": {},
   "outputs": [],
   "source": [
    "# 두개의 핸드폰 요금 중 저렴한 요금을 출력"
   ]
  },
  {
   "cell_type": "code",
   "execution_count": 40,
   "id": "aeab1008-c9e7-438f-973c-2d5ab2b777d1",
   "metadata": {},
   "outputs": [
    {
     "name": "stdin",
     "output_type": "stream",
     "text": [
      " 3\n",
      " 40 40 40\n"
     ]
    },
    {
     "name": "stdout",
     "output_type": "stream",
     "text": [
      "M 45\n"
     ]
    }
   ],
   "source": [
    "N = int(input())                       # 동호가 이용한 통화의 갯수\n",
    "tmp = list(map(int, input().split()))  # 입력이 한줄에 여러개면 일단 이거 쓰고 보자\n",
    "y = 0\n",
    "m = 0\n",
    "\n",
    "for i in range(N):\n",
    "    y_price = (( tmp[i] // 30 ) * 10) + 10   # 영식 요금제\n",
    "    y += y_price\n",
    "    m_price = (( tmp[i] // 60 ) * 15) + 15  # 민식 요금제\n",
    "    m += m_price\n",
    "\n",
    "if y < m:\n",
    "    print(\"Y\", y, sep = \" \")\n",
    "elif y > m:\n",
    "    print(\"M\", m, sep = \" \")\n",
    "elif y == m:\n",
    "    print(\"Y\", \"M\", m, sep = \" \")"
   ]
  },
  {
   "cell_type": "markdown",
   "id": "fbc8c3f4-a846-4ed9-a2f8-16170bb41753",
   "metadata": {},
   "source": [
    "# [1284번] "
   ]
  },
  {
   "cell_type": "code",
   "execution_count": null,
   "id": "549d0566-f05e-4050-acfd-63b0db704e7f",
   "metadata": {},
   "outputs": [],
   "source": [
    "# 간판 제작할 때 여백이 몇cm 인지 확인하는 코드"
   ]
  },
  {
   "cell_type": "code",
   "execution_count": 51,
   "id": "9a32e945-6f7b-4ece-8f44-326abe5ba98b",
   "metadata": {},
   "outputs": [
    {
     "name": "stdin",
     "output_type": "stream",
     "text": [
      " 120\n"
     ]
    },
    {
     "name": "stdout",
     "output_type": "stream",
     "text": [
      "13\n"
     ]
    },
    {
     "name": "stdin",
     "output_type": "stream",
     "text": [
      " 5611\n"
     ]
    },
    {
     "name": "stdout",
     "output_type": "stream",
     "text": [
      "15\n"
     ]
    },
    {
     "name": "stdin",
     "output_type": "stream",
     "text": [
      " 100\n"
     ]
    },
    {
     "name": "stdout",
     "output_type": "stream",
     "text": [
      "14\n"
     ]
    },
    {
     "name": "stdin",
     "output_type": "stream",
     "text": [
      " 0\n"
     ]
    }
   ],
   "source": [
    "while True:              # 무한반복\n",
    "    N = list(input())    # 입력을 리스트로 받아야 각각의 수를 따질 수 있음\n",
    "    count = 0\n",
    "    if N[0] == '0':      # 종료 조건\n",
    "        break\n",
    "    else:\n",
    "        for i in range(len(N)):\n",
    "            if N[i] == '1':\n",
    "                count += 2\n",
    "            elif N[i] == '0':\n",
    "                count += 4\n",
    "            else:\n",
    "                count += 3\n",
    "        count += 2\n",
    "        count += (len(N)-1)\n",
    "        print(count)\n",
    "                "
   ]
  },
  {
   "cell_type": "markdown",
   "id": "5dccc6bb-c97a-4bea-88d6-4c6048a26682",
   "metadata": {},
   "source": [
    "# [1547번]"
   ]
  },
  {
   "cell_type": "code",
   "execution_count": 54,
   "id": "804a624f-6466-4589-99bc-dbaf8ae1ae4e",
   "metadata": {},
   "outputs": [],
   "source": [
    "# 야바위 게임에서 공이 들어있는 컵의 위치를 찾는 게임"
   ]
  },
  {
   "cell_type": "code",
   "execution_count": 80,
   "id": "42573640-532f-4a8d-be29-1f0d9ab4a571",
   "metadata": {},
   "outputs": [
    {
     "name": "stdin",
     "output_type": "stream",
     "text": [
      " 2\n",
      " 1 2\n",
      " 3 1\n"
     ]
    },
    {
     "name": "stdout",
     "output_type": "stream",
     "text": [
      "2\n"
     ]
    }
   ],
   "source": [
    "M = int(input())\n",
    "cup = [1, 2, 3]\n",
    "tmp = 0\n",
    "\n",
    "for i in range(M):\n",
    "    switch = list(map(int, input().split())) # 이 리스트는 덮어 띄워짐 계속 누적되지 않음\n",
    "    tmp = cup[(switch[0]-1)]\n",
    "    cup[(switch[0]-1)] = cup[(switch[1]-1)]\n",
    "    cup[(switch[1]-1)] = tmp\n",
    "    \n",
    "result = (cup.index(1) + 1) # 리스트의 함수인 .index(찾을값) 을 사용하면 좋다\n",
    "print(result)\n",
    "\n"
   ]
  },
  {
   "cell_type": "code",
   "execution_count": null,
   "id": "893fa328-f5ec-4f0d-9fab-661994aed719",
   "metadata": {},
   "outputs": [],
   "source": []
  }
 ],
 "metadata": {
  "kernelspec": {
   "display_name": "Python 3 (ipykernel)",
   "language": "python",
   "name": "python3"
  },
  "language_info": {
   "codemirror_mode": {
    "name": "ipython",
    "version": 3
   },
   "file_extension": ".py",
   "mimetype": "text/x-python",
   "name": "python",
   "nbconvert_exporter": "python",
   "pygments_lexer": "ipython3",
   "version": "3.12.4"
  }
 },
 "nbformat": 4,
 "nbformat_minor": 5
}
